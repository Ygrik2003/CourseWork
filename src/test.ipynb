{
 "cells": [
  {
   "cell_type": "code",
   "execution_count": 1,
   "metadata": {},
   "outputs": [],
   "source": [
    "from math import log\n",
    "import numpy as np\n",
    "import bottleneck as bn\n",
    "import numba as nb\n",
    "\n",
    "# from skimage.feature import graycomatrix, greycoprops\n",
    "from Lib.texture import graycomatrix as graycomatrix_py\n",
    "\n",
    "size = 2 ** 16\n",
    "img = np.round(size / 2 + size * np.random.standard_normal(size=(250, 250)) / 2)\n",
    "img = img.astype(np.int16)\n",
    "img[img < 0] = 0\n",
    "sizes = set(img.flatten())\n",
    "\n",
    "p = -np.ones(img.shape)\n",
    "\n",
    "\n",
    "def setP(img, d = [1], angle=[0]):\n",
    "    \n",
    "\n",
    "\n",
    "def getEntropy(img):\n",
    "    return "
   ]
  },
  {
   "cell_type": "code",
   "execution_count": 2,
   "metadata": {},
   "outputs": [
    {
     "name": "stdout",
     "output_type": "stream",
     "text": [
      "80.1 ms ± 2.59 ms per loop (mean ± std. dev. of 7 runs, 1 loop each)\n"
     ]
    },
    {
     "ename": "",
     "evalue": "",
     "output_type": "error",
     "traceback": [
      "\u001b[1;31mThe Kernel crashed while executing code in the the current cell or a previous cell. Please review the code in the cell(s) to identify a possible cause of the failure. Click <a href='https://aka.ms/vscodeJupyterKernelCrash'>here</a> for more info. View Jupyter <a href='command:jupyter.viewOutput'>log</a> for further details."
     ]
    }
   ],
   "source": [
    "%%timeit\n",
    "getEntropy(img)"
   ]
  },
  {
   "cell_type": "code",
   "execution_count": 2,
   "metadata": {},
   "outputs": [
    {
     "ename": "MemoryError",
     "evalue": "Unable to allocate 32.0 GiB for an array with shape (65536, 65536, 1, 1) and data type float64",
     "output_type": "error",
     "traceback": [
      "\u001b[1;31m---------------------------------------------------------------------------\u001b[0m",
      "\u001b[1;31mMemoryError\u001b[0m                               Traceback (most recent call last)",
      "Cell \u001b[1;32mIn[2], line 1\u001b[0m\n\u001b[1;32m----> 1\u001b[0m \u001b[39mprint\u001b[39m(getEntropy(img)\u001b[39m.\u001b[39mshape)\n",
      "Cell \u001b[1;32mIn[1], line 27\u001b[0m, in \u001b[0;36mgetEntropy\u001b[1;34m(img)\u001b[0m\n\u001b[0;32m     26\u001b[0m \u001b[39mdef\u001b[39;00m \u001b[39mgetEntropy\u001b[39m(img):\n\u001b[1;32m---> 27\u001b[0m     \u001b[39mreturn\u001b[39;00m graycomatrix_py(img, [\u001b[39m1\u001b[39;49m], [np\u001b[39m.\u001b[39;49mpi \u001b[39m/\u001b[39;49m \u001b[39m2\u001b[39;49m], levels\u001b[39m=\u001b[39;49msize, normed\u001b[39m=\u001b[39;49m\u001b[39mTrue\u001b[39;49;00m)\n",
      "File \u001b[1;32ml:\\Projects\\CourseWork\\src\\Lib\\texture.py:197\u001b[0m, in \u001b[0;36mgraycomatrix\u001b[1;34m(image, distances, angles, levels, symmetric, normed)\u001b[0m\n\u001b[0;32m    195\u001b[0m \u001b[39m# normalize each GLCM\u001b[39;00m\n\u001b[0;32m    196\u001b[0m \u001b[39mif\u001b[39;00m normed:\n\u001b[1;32m--> 197\u001b[0m     P \u001b[39m=\u001b[39m P\u001b[39m.\u001b[39;49mastype(np\u001b[39m.\u001b[39;49mfloat64)\n\u001b[0;32m    198\u001b[0m     glcm_sums \u001b[39m=\u001b[39m np\u001b[39m.\u001b[39msum(P, axis\u001b[39m=\u001b[39m(\u001b[39m0\u001b[39m, \u001b[39m1\u001b[39m), keepdims\u001b[39m=\u001b[39m\u001b[39mTrue\u001b[39;00m)\n\u001b[0;32m    199\u001b[0m     glcm_sums[glcm_sums \u001b[39m==\u001b[39m \u001b[39m0\u001b[39m] \u001b[39m=\u001b[39m \u001b[39m1\u001b[39m\n",
      "\u001b[1;31mMemoryError\u001b[0m: Unable to allocate 32.0 GiB for an array with shape (65536, 65536, 1, 1) and data type float64"
     ]
    }
   ],
   "source": [
    "print(getEntropy(img).shape)"
   ]
  },
  {
   "cell_type": "code",
   "execution_count": null,
   "metadata": {},
   "outputs": [],
   "source": [
    "def getP(img, i, j, d = 1):\n",
    "    p = np.array([])\n",
    "    for x in range(img.shape[0] - d):\n",
    "        p = np.append(p, np.all([img[x] == i,  img[x + d] == j], axis=0))\n",
    "    return np.sum(p) / ((img.shape[0] - d) * img.shape[1])\n",
    "\n",
    "# def getEntropy(img):\n",
    "#     entropy = 0\n",
    "#     for i in sizes:\n",
    "#         for j in sizes:\n",
    "#             p = getP(img, i, j)\n",
    "#             if p == 0:\n",
    "#                 continue\n",
    "#             entropy -= p * log(p)\n",
    "#     return entropy"
   ]
  },
  {
   "cell_type": "code",
   "execution_count": null,
   "metadata": {},
   "outputs": [
    {
     "name": "stdout",
     "output_type": "stream",
     "text": [
      "622 ms ± 9.5 ms per loop (mean ± std. dev. of 7 runs, 1 loop each)\n"
     ]
    }
   ],
   "source": [
    "%%timeit\n",
    "getEntropy(img)"
   ]
  },
  {
   "cell_type": "code",
   "execution_count": null,
   "metadata": {},
   "outputs": [
    {
     "data": {
      "text/plain": [
       "6.4395758529175495"
      ]
     },
     "execution_count": 6,
     "metadata": {},
     "output_type": "execute_result"
    }
   ],
   "source": [
    "getEntropy(img)"
   ]
  },
  {
   "cell_type": "code",
   "execution_count": null,
   "metadata": {},
   "outputs": [],
   "source": []
  }
 ],
 "metadata": {
  "kernelspec": {
   "display_name": "CourseWork",
   "language": "python",
   "name": "python3"
  },
  "language_info": {
   "codemirror_mode": {
    "name": "ipython",
    "version": 3
   },
   "file_extension": ".py",
   "mimetype": "text/x-python",
   "name": "python",
   "nbconvert_exporter": "python",
   "pygments_lexer": "ipython3",
   "version": "3.9.5"
  },
  "orig_nbformat": 4,
  "vscode": {
   "interpreter": {
    "hash": "084108f72d432de2264adc3ffba650c9f1951cbab3e2483f7cb2cefcfb817813"
   }
  }
 },
 "nbformat": 4,
 "nbformat_minor": 2
}
