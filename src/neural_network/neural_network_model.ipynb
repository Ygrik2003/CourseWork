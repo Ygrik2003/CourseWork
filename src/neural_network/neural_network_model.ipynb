{
 "cells": [
  {
   "cell_type": "code",
   "execution_count": 1,
   "metadata": {},
   "outputs": [],
   "source": [
    "import pandas as pd\n",
    "import numpy as np\n",
    "import matplotlib.pyplot as plt\n",
    "import random\n",
    "import tensorflow as tf\n",
    "\n",
    "from tensorflow import keras\n",
    "from keras.models import Sequential\n",
    "from keras.layers import Input, Dense, Dropout, Activation\n",
    "from keras.optimizers import Adam, SGD, Adagrad\n",
    "from keras.initializers import glorot_uniform\n",
    "import seaborn as sns\n",
    "\n",
    "from matplotlib.pyplot import imshow"
   ]
  },
  {
   "attachments": {},
   "cell_type": "markdown",
   "metadata": {},
   "source": [
    "# HYPER-PARAMETERS"
   ]
  },
  {
   "cell_type": "code",
   "execution_count": 2,
   "metadata": {},
   "outputs": [],
   "source": [
    "TEST_SIZE = 0.2"
   ]
  },
  {
   "attachments": {},
   "cell_type": "markdown",
   "metadata": {},
   "source": [
    "# Optimization"
   ]
  },
  {
   "cell_type": "code",
   "execution_count": 3,
   "metadata": {},
   "outputs": [],
   "source": [
    "def reduce_mem_usage(df : pd.DataFrame):\n",
    "    start_mem = df.memory_usage().sum() / 1024 ** 2\n",
    "    for col in df.columns:\n",
    "        col_type = df[col].dtypes\n",
    "        if str(col_type)[:5] == 'float':\n",
    "            c_min = df[col].min()\n",
    "            c_max = df[col].max()\n",
    "            if c_min > np.finfo('f2').min and c_max < np.finfo('f2').max:\n",
    "                df[col] = df[col].astype(np.float16)\n",
    "            elif c_min > np.finfo('f4').min and c_max < np.finfo('f4').max:\n",
    "                df[col] = df[col].astype(np.float32)\n",
    "            else:\n",
    "                df[col] = df[col].astype(np.float64)\n",
    "        elif str(col_type)[:3] == 'int':\n",
    "            c_min = df[col].min()\n",
    "            c_max = df[col].max()\n",
    "            if c_min > np.iinfo('i1').min and c_max < np.iinfo('i1').max:\n",
    "                df[col] = df[col].astype(np.int8)\n",
    "            elif c_min > np.iinfo('i2').min and c_max < np.iinfo('i2').max:\n",
    "                df[col] = df[col].astype(np.int16)\n",
    "            elif c_min > np.iinfo('i4').min and c_max < np.iinfo('i4').max:\n",
    "                df[col] = df[col].astype(np.int32)\n",
    "            elif c_min > np.iinfo('i8').min and c_max < np.iinfo('i8').max:\n",
    "                df[col] = df[col].astype(np.int64)\n",
    "        elif str(col_type)[:8] == 'datetime':\n",
    "            df[col] = df[col].astype('category')\n",
    "    end_mem = df.memory_usage().sum() / 1024 ** 2\n",
    "    print('Потребление памяти меньше на',\n",
    "         round(start_mem - end_mem, 2),\n",
    "         'Мб (минус',\n",
    "         round(100 * (start_mem - end_mem) / start_mem, 1),\n",
    "         '%)')\n",
    "    return df"
   ]
  },
  {
   "attachments": {},
   "cell_type": "markdown",
   "metadata": {},
   "source": [
    "# Data extract"
   ]
  },
  {
   "cell_type": "code",
   "execution_count": 4,
   "metadata": {},
   "outputs": [],
   "source": [
    "methods = {\n",
    "    \"SHG Intensity\" : [\n",
    "        \"SHG Intensity Mean\",\n",
    "        \"SHG Intensity MAD\",\n",
    "        \"SHG Intensity Contrast\",\n",
    "        \"SHG Intensity Correlation\",\n",
    "        \"SHG Intensity Entropy\",\n",
    "        \"SHG Intensity ASM\",\n",
    "        \"SHG Intensity IDM\"\n",
    "    ],\n",
    "    \"R-Ratio\" : [\n",
    "        \"R-Ratio Mean\",\n",
    "        \"R-Ratio MAD\",\n",
    "        \"R-Ratio Contrast\",\n",
    "        \"R-Ratio Correlation\",\n",
    "        \"R-Ratio Entropy\",\n",
    "        \"R-Ratio ASM\"\n",
    "    ],\n",
    "    \"Degree of Circular Polarization\" : [\n",
    "        \"Degree of Circular Polarization Mean\",\n",
    "        \"Degree of Circular Polarization MAD\",\n",
    "        \"Degree of Circular Polarization Contrast\",\n",
    "        \"Degree of Circular Polarization Correlation\",\n",
    "        \"Degree of Circular Polarization Entropy\",\n",
    "        \"Degree of Circular Polarization ASM\",\n",
    "        \"Degree of Circular Polarization IDM\"\n",
    "    ],\n",
    "    \"SHG-CD\" : [ \n",
    "        \"SHG-CD MAD\",\n",
    "        \"SHG-CD Contrast\",\n",
    "        \"SHG-CD Correlation\",\n",
    "        \"SHG-CD Entropy\",\n",
    "        \"SHG-CD ASM\",\n",
    "        \"SHG-CD IDM\"\n",
    "    ],\n",
    "    \"SHG-LD\" : [\n",
    "        \"SHG-LD MAD\",\n",
    "        \"SHG-LD Contrast\",\n",
    "        \"SHG-LD Correlation\",\n",
    "        \"SHG-LD Entropy\",\n",
    "        \"SHG-LD ASM\",\n",
    "        \"SHG-LD IDM\"\n",
    "    ]\n",
    "}\n",
    "\n",
    "x_axis = sum([methods[key] for key in methods.keys()], [])\n",
    "# x_axis += \"Pixel Density\"\n",
    "\n",
    "y_axis = \"2-Group Tag\"\n",
    "\n",
    "def getData(table_number):\n",
    "    data = pd.read_excel(io=\"../../Data/41598_2022_13623_MOESM3_ESM.xlsx\", \n",
    "    sheet_name=f\"{1 << 2 * (table_number - 1)} Subimage Training\")\n",
    "    data = reduce_mem_usage(data)\n",
    "    data = (data - data.min()) / (data.max() - data.min())\n",
    "    #data[\"2-Group Tag\"] = data[y_axis] == 2\n",
    "    return data\n"
   ]
  },
  {
   "attachments": {},
   "cell_type": "markdown",
   "metadata": {},
   "source": [
    "# Init data"
   ]
  },
  {
   "cell_type": "code",
   "execution_count": 5,
   "metadata": {},
   "outputs": [
    {
     "name": "stdout",
     "output_type": "stream",
     "text": [
      "Потребление памяти меньше на 0.07 Мб (минус 74.5 %)\n",
      "143 139\n",
      "Weights: [0.4929078014184397, 0.5070921985815603]\n"
     ]
    }
   ],
   "source": [
    "data = getData(3)\n",
    "\n",
    "# for i in range(4, 6):\n",
    "#     data = pd.concat([data, getData(i)], ignore_index=True)\n",
    "\n",
    "data_true = data[data[y_axis] == 1]\n",
    "data_false = data[data[y_axis] == 0]\n",
    "\n",
    "data['weights'] = data[y_axis].map({1: 100 * len(data_false) // len(data), 0: 100 * len(data_true) // len(data)})\n",
    "\n",
    "train_data = data.sample(frac=1-TEST_SIZE, random_state=0, weights='weights')\n",
    "test_data = data.drop(train_data.index)\n",
    "X_train, X_test = train_data[x_axis].to_numpy(), test_data[x_axis].to_numpy()\n",
    "y_train, y_test = train_data[y_axis].to_numpy(), test_data[y_axis].to_numpy()\n",
    "\n",
    "X_train_data_true = X_train[y_train == 1]\n",
    "X_train_data_false = X_train[y_train == 0]\n",
    "print(len(X_train_data_false), len(X_train_data_true))\n",
    "\n",
    "weights = [len(X_train_data_true) / len(X_train), len(X_train_data_false) / len(X_train)]\n",
    "print(\"Weights:\", weights)\n",
    "\n",
    "n_samples, n_features, batch_size = *X_train.shape, 128"
   ]
  },
  {
   "cell_type": "code",
   "execution_count": 6,
   "metadata": {},
   "outputs": [
    {
     "data": {
      "text/plain": [
       "(0      50\n",
       " 1      50\n",
       " 2      50\n",
       " 3      50\n",
       " 4      50\n",
       "        ..\n",
       " 347    49\n",
       " 348    49\n",
       " 349    49\n",
       " 350    49\n",
       " 351    49\n",
       " Name: weights, Length: 352, dtype: int64,\n",
       " 0      0.0\n",
       " 1      0.0\n",
       " 2      0.0\n",
       " 3      0.0\n",
       " 4      0.0\n",
       "       ... \n",
       " 347    1.0\n",
       " 348    1.0\n",
       " 349    1.0\n",
       " 350    1.0\n",
       " 351    1.0\n",
       " Name: 2-Group Tag, Length: 352, dtype: float64)"
      ]
     },
     "execution_count": 6,
     "metadata": {},
     "output_type": "execute_result"
    }
   ],
   "source": [
    "data['weights'], data[y_axis]"
   ]
  },
  {
   "cell_type": "code",
   "execution_count": 7,
   "metadata": {},
   "outputs": [],
   "source": [
    "#model = Sequential()\n",
    "# model.add(Input(shape=(32,)))\n",
    "# model.add(Dense(16, activation='relu'))\n",
    "# model.add(Dropout(.8, input_shape=(8,)))\n",
    "# model.add(Dense(4, activation='relu'))\n",
    "# model.add(Dense(1, activation='sigmoid'))\n",
    "# model.compile(loss='binary_crossentropy', optimizer='sgd', metrics=['accuracy',tf.keras.metrics.TruePositives()], loss_weights=weights[::-1]) # \n",
    "def getModel(dropout=0.00, neurons_first=500, neurons_second=250, learningRate=0.1):\n",
    "    model = Sequential()\n",
    "    model.add(Dense(neurons_first, activation='relu', input_dim=n_features, \n",
    "                    kernel_initializer=glorot_uniform(),\n",
    "                    name='Dense_first'))\n",
    "    model.add(Dense(neurons_first, activation='relu', input_dim=n_features, \n",
    "                kernel_initializer=glorot_uniform(),\n",
    "                name='Dense_first1'))\n",
    "    model.add(Dropout(dropout, name='Dropout_null'))\n",
    "    model.add(Dense(neurons_first, activation='relu', input_dim=n_features, \n",
    "                kernel_initializer=glorot_uniform(),\n",
    "                name='Dense_first2'))\n",
    "    model.add(Dense(neurons_first, activation='relu', input_dim=n_features, \n",
    "                kernel_initializer=glorot_uniform(),\n",
    "                name='Dense_first3'))\n",
    "    model.add(Dropout(dropout, name='Dropout_first'))\n",
    "    model.add(Dense(neurons_second, activation='relu', kernel_initializer=glorot_uniform(),\n",
    "                    name='Dense_second'))\n",
    "    model.add(Dropout(dropout, name='Dropout_second'))\n",
    "    model.add(Dense(1, activation='sigmoid',\n",
    "                    kernel_initializer=glorot_uniform(),\n",
    "                    name='Result'))\n",
    "    model.compile(loss='binary_crossentropy',\n",
    "                  optimizer=Adagrad(learning_rate=learningRate), metrics=['accuracy'], loss_weights=weights[::-1])\n",
    "    return model\n"
   ]
  },
  {
   "cell_type": "code",
   "execution_count": 8,
   "metadata": {},
   "outputs": [
    {
     "name": "stdout",
     "output_type": "stream",
     "text": [
      "Epoch 1/50\n",
      "3/3 [==============================] - 1s 166ms/step - loss: 0.3533 - accuracy: 0.5035 - val_loss: 0.3479 - val_accuracy: 0.4286\n",
      "Epoch 2/50\n",
      "3/3 [==============================] - 0s 34ms/step - loss: 0.3448 - accuracy: 0.5674 - val_loss: 0.3491 - val_accuracy: 0.4286\n",
      "Epoch 3/50\n",
      "3/3 [==============================] - 0s 32ms/step - loss: 0.3456 - accuracy: 0.5071 - val_loss: 0.3367 - val_accuracy: 0.4286\n",
      "Epoch 4/50\n",
      "3/3 [==============================] - 0s 32ms/step - loss: 0.3375 - accuracy: 0.5957 - val_loss: 0.3220 - val_accuracy: 0.8571\n",
      "Epoch 5/50\n",
      "3/3 [==============================] - 0s 33ms/step - loss: 0.3278 - accuracy: 0.7163 - val_loss: 0.3147 - val_accuracy: 0.5714\n",
      "Epoch 6/50\n",
      "3/3 [==============================] - 0s 32ms/step - loss: 0.3205 - accuracy: 0.6702 - val_loss: 0.2926 - val_accuracy: 0.7571\n",
      "Epoch 7/50\n",
      "3/3 [==============================] - 0s 34ms/step - loss: 0.3073 - accuracy: 0.7340 - val_loss: 0.2592 - val_accuracy: 0.9000\n",
      "Epoch 8/50\n",
      "3/3 [==============================] - 0s 32ms/step - loss: 0.2910 - accuracy: 0.7553 - val_loss: 0.3041 - val_accuracy: 0.5429\n",
      "Epoch 9/50\n",
      "3/3 [==============================] - 0s 32ms/step - loss: 0.2772 - accuracy: 0.7447 - val_loss: 0.3731 - val_accuracy: 0.5714\n",
      "Epoch 10/50\n",
      "3/3 [==============================] - 0s 32ms/step - loss: 0.3166 - accuracy: 0.7376 - val_loss: 0.2223 - val_accuracy: 0.7857\n",
      "Epoch 11/50\n",
      "3/3 [==============================] - 0s 32ms/step - loss: 0.2431 - accuracy: 0.7801 - val_loss: 0.2398 - val_accuracy: 0.7286\n",
      "Epoch 12/50\n",
      "3/3 [==============================] - 0s 31ms/step - loss: 0.2981 - accuracy: 0.6560 - val_loss: 0.2577 - val_accuracy: 0.7000\n",
      "Epoch 13/50\n",
      "3/3 [==============================] - 0s 34ms/step - loss: 0.2331 - accuracy: 0.7908 - val_loss: 0.1755 - val_accuracy: 0.8857\n",
      "Epoch 14/50\n",
      "3/3 [==============================] - 0s 33ms/step - loss: 0.2167 - accuracy: 0.7908 - val_loss: 0.1157 - val_accuracy: 0.9286\n",
      "Epoch 15/50\n",
      "3/3 [==============================] - 0s 34ms/step - loss: 0.1699 - accuracy: 0.8901 - val_loss: 0.1823 - val_accuracy: 0.8429\n",
      "Epoch 16/50\n",
      "3/3 [==============================] - 0s 32ms/step - loss: 0.2634 - accuracy: 0.7411 - val_loss: 0.2381 - val_accuracy: 0.7000\n",
      "Epoch 17/50\n",
      "3/3 [==============================] - 0s 34ms/step - loss: 0.1970 - accuracy: 0.8050 - val_loss: 0.0866 - val_accuracy: 0.9857\n",
      "Epoch 18/50\n",
      "3/3 [==============================] - 0s 33ms/step - loss: 0.1321 - accuracy: 0.9291 - val_loss: 0.3000 - val_accuracy: 0.6857\n",
      "Epoch 19/50\n",
      "3/3 [==============================] - 0s 33ms/step - loss: 0.3152 - accuracy: 0.6915 - val_loss: 0.2059 - val_accuracy: 0.7714\n",
      "Epoch 20/50\n",
      "3/3 [==============================] - 0s 32ms/step - loss: 0.1664 - accuracy: 0.8688 - val_loss: 0.0675 - val_accuracy: 0.9857\n",
      "Epoch 21/50\n",
      "3/3 [==============================] - 0s 34ms/step - loss: 0.1048 - accuracy: 0.9184 - val_loss: 0.0426 - val_accuracy: 1.0000\n",
      "Epoch 22/50\n",
      "3/3 [==============================] - 0s 34ms/step - loss: 0.0872 - accuracy: 0.9433 - val_loss: 0.0385 - val_accuracy: 0.9857\n",
      "Epoch 23/50\n",
      "3/3 [==============================] - 0s 32ms/step - loss: 0.1126 - accuracy: 0.9149 - val_loss: 0.0887 - val_accuracy: 0.9286\n",
      "Epoch 24/50\n",
      "3/3 [==============================] - 0s 31ms/step - loss: 0.1951 - accuracy: 0.8191 - val_loss: 0.6900 - val_accuracy: 0.4571\n",
      "Epoch 25/50\n",
      "3/3 [==============================] - 0s 31ms/step - loss: 0.3542 - accuracy: 0.7411 - val_loss: 0.1219 - val_accuracy: 0.9857\n",
      "Epoch 26/50\n",
      "3/3 [==============================] - 0s 33ms/step - loss: 0.1391 - accuracy: 0.9362 - val_loss: 0.0627 - val_accuracy: 1.0000\n",
      "Epoch 27/50\n",
      "3/3 [==============================] - 0s 32ms/step - loss: 0.1008 - accuracy: 0.9468 - val_loss: 0.0401 - val_accuracy: 1.0000\n",
      "Epoch 28/50\n",
      "3/3 [==============================] - 0s 32ms/step - loss: 0.0903 - accuracy: 0.9326 - val_loss: 0.0687 - val_accuracy: 0.9429\n",
      "Epoch 29/50\n",
      "3/3 [==============================] - 0s 33ms/step - loss: 0.0943 - accuracy: 0.9326 - val_loss: 0.0270 - val_accuracy: 0.9857\n",
      "Epoch 30/50\n",
      "3/3 [==============================] - 0s 33ms/step - loss: 0.0799 - accuracy: 0.9433 - val_loss: 0.0186 - val_accuracy: 1.0000\n",
      "Epoch 31/50\n",
      "3/3 [==============================] - 0s 32ms/step - loss: 0.0683 - accuracy: 0.9539 - val_loss: 0.0493 - val_accuracy: 0.9571\n",
      "Epoch 32/50\n",
      "3/3 [==============================] - 0s 35ms/step - loss: 0.1547 - accuracy: 0.8830 - val_loss: 0.1828 - val_accuracy: 0.8429\n",
      "Epoch 33/50\n",
      "3/3 [==============================] - 0s 33ms/step - loss: 0.2495 - accuracy: 0.7766 - val_loss: 0.0692 - val_accuracy: 0.9714\n",
      "Epoch 34/50\n",
      "3/3 [==============================] - 0s 32ms/step - loss: 0.0860 - accuracy: 0.9468 - val_loss: 0.0304 - val_accuracy: 1.0000\n",
      "Epoch 35/50\n",
      "3/3 [==============================] - 0s 31ms/step - loss: 0.0732 - accuracy: 0.9645 - val_loss: 0.0276 - val_accuracy: 1.0000\n",
      "Epoch 36/50\n",
      "3/3 [==============================] - 0s 33ms/step - loss: 0.0825 - accuracy: 0.9362 - val_loss: 0.0485 - val_accuracy: 0.9571\n",
      "Epoch 37/50\n",
      "3/3 [==============================] - 0s 33ms/step - loss: 0.1264 - accuracy: 0.9007 - val_loss: 0.0868 - val_accuracy: 0.9286\n",
      "Epoch 38/50\n",
      "3/3 [==============================] - 0s 36ms/step - loss: 0.1111 - accuracy: 0.9255 - val_loss: 0.0295 - val_accuracy: 0.9857\n",
      "Epoch 39/50\n",
      "3/3 [==============================] - 0s 34ms/step - loss: 0.0744 - accuracy: 0.9504 - val_loss: 0.0217 - val_accuracy: 1.0000\n",
      "Epoch 40/50\n",
      "3/3 [==============================] - 0s 33ms/step - loss: 0.0808 - accuracy: 0.9397 - val_loss: 0.0239 - val_accuracy: 0.9857\n",
      "Epoch 41/50\n",
      "3/3 [==============================] - 0s 33ms/step - loss: 0.0644 - accuracy: 0.9574 - val_loss: 0.0184 - val_accuracy: 1.0000\n",
      "Epoch 42/50\n",
      "3/3 [==============================] - 0s 32ms/step - loss: 0.0669 - accuracy: 0.9574 - val_loss: 0.0114 - val_accuracy: 1.0000\n",
      "Epoch 43/50\n",
      "3/3 [==============================] - 0s 32ms/step - loss: 0.0679 - accuracy: 0.9504 - val_loss: 0.0110 - val_accuracy: 1.0000\n",
      "Epoch 44/50\n",
      "3/3 [==============================] - 0s 34ms/step - loss: 0.0620 - accuracy: 0.9610 - val_loss: 0.0096 - val_accuracy: 1.0000\n",
      "Epoch 45/50\n",
      "3/3 [==============================] - 0s 34ms/step - loss: 0.0634 - accuracy: 0.9468 - val_loss: 0.0173 - val_accuracy: 0.9857\n",
      "Epoch 46/50\n",
      "3/3 [==============================] - 0s 32ms/step - loss: 0.1310 - accuracy: 0.8936 - val_loss: 0.6023 - val_accuracy: 0.6286\n",
      "Epoch 47/50\n",
      "3/3 [==============================] - 0s 32ms/step - loss: 0.3456 - accuracy: 0.7589 - val_loss: 0.0385 - val_accuracy: 1.0000\n",
      "Epoch 48/50\n",
      "3/3 [==============================] - 0s 33ms/step - loss: 0.0808 - accuracy: 0.9574 - val_loss: 0.0229 - val_accuracy: 1.0000\n",
      "Epoch 49/50\n",
      "3/3 [==============================] - 0s 35ms/step - loss: 0.0665 - accuracy: 0.9539 - val_loss: 0.0172 - val_accuracy: 1.0000\n",
      "Epoch 50/50\n",
      "3/3 [==============================] - 0s 36ms/step - loss: 0.0623 - accuracy: 0.9468 - val_loss: 0.0311 - val_accuracy: 0.9857\n"
     ]
    }
   ],
   "source": [
    "increasedDropout = 0.5\n",
    "increasedNeurons1 = 1000\n",
    "model = getModel(increasedDropout, neurons_first=increasedNeurons1)\n",
    "net = model.fit(X_train, y_train, batch_size=batch_size, epochs=50, validation_data=(X_test, y_test))"
   ]
  },
  {
   "cell_type": "code",
   "execution_count": 9,
   "metadata": {},
   "outputs": [
    {
     "name": "stdout",
     "output_type": "stream",
     "text": [
      "11/11 [==============================] - 0s 3ms/step\n"
     ]
    }
   ],
   "source": [
    "y_predict = model.predict(data[x_axis])\n",
    "confusion_matrix = tf.math.confusion_matrix(data[y_axis], np.round(y_predict))"
   ]
  },
  {
   "cell_type": "code",
   "execution_count": 10,
   "metadata": {},
   "outputs": [
    {
     "name": "stdout",
     "output_type": "stream",
     "text": [
      "tf.Tensor(\n",
      "[[155  18]\n",
      " [  1 178]], shape=(2, 2), dtype=int32)\n"
     ]
    }
   ],
   "source": [
    "print(confusion_matrix)"
   ]
  },
  {
   "cell_type": "code",
   "execution_count": 11,
   "metadata": {},
   "outputs": [],
   "source": [
    "# data[y_axis] = data[y_axis].astype('object')\n",
    "# sns.pairplot(data, hue=y_axis, vars=methods[\"SHG Intensity\"])"
   ]
  },
  {
   "cell_type": "code",
   "execution_count": 16,
   "metadata": {},
   "outputs": [
    {
     "name": "stdout",
     "output_type": "stream",
     "text": [
      "Потребление памяти меньше на 0.8 Мб (минус 75.0 %)\n"
     ]
    }
   ],
   "source": [
    "data_for_predict = pd.read_excel(\"../../Data/mydata4096.xlsx\")\n",
    "data_for_predict = reduce_mem_usage(data_for_predict)\n",
    "X_for_predict = data_for_predict[x_axis]"
   ]
  },
  {
   "cell_type": "code",
   "execution_count": 19,
   "metadata": {},
   "outputs": [
    {
     "name": "stdout",
     "output_type": "stream",
     "text": [
      "128/128 [==============================] - 1s 4ms/step\n",
      "[[0.]\n",
      " [0.]\n",
      " [0.]\n",
      " ...\n",
      " [0.]\n",
      " [0.]\n",
      " [0.]]\n"
     ]
    }
   ],
   "source": [
    "y_pred = np.round(model.predict(X_for_predict))\n",
    "print(y_pred)\n",
    "y_pred = y_pred.reshape(64, 64)"
   ]
  },
  {
   "cell_type": "code",
   "execution_count": 20,
   "metadata": {},
   "outputs": [
    {
     "data": {
      "text/plain": [
       "<matplotlib.image.AxesImage at 0x1edb86f21c0>"
      ]
     },
     "execution_count": 20,
     "metadata": {},
     "output_type": "execute_result"
    },
    {
     "data": {
      "image/png": "[encoded data removed]",
      "text/plain": [
       "<Figure size 640x480 with 1 Axes>"
      ]
     },
     "metadata": {},
     "output_type": "display_data"
    }
   ],
   "source": [
    "y_pred *= 255\n",
    "y_pred = y_pred.astype(np.int16)\n",
    "imshow(y_pred, cmap='gray', vmin=0, vmax=255)"
   ]
  },
  {
   "cell_type": "code",
   "execution_count": 15,
   "metadata": {},
   "outputs": [
    {
     "name": "stdout",
     "output_type": "stream",
     "text": [
      "[]\n"
     ]
    }
   ],
   "source": [
    "print(y_pred[y_pred != 0])"
   ]
  },
  {
   "cell_type": "code",
   "execution_count": null,
   "metadata": {},
   "outputs": [],
   "source": []
  },
  {
   "cell_type": "code",
   "execution_count": null,
   "metadata": {},
   "outputs": [],
   "source": []
  }
 ],
 "metadata": {
  "kernelspec": {
   "display_name": "CourseWork",
   "language": "python",
   "name": "python3"
  },
  "language_info": {
   "codemirror_mode": {
    "name": "ipython",
    "version": 3
   },
   "file_extension": ".py",
   "mimetype": "text/x-python",
   "name": "python",
   "nbconvert_exporter": "python",
   "pygments_lexer": "ipython3",
   "version": "3.9.5"
  },
  "vscode": {
   "interpreter": {
    "hash": "084108f72d432de2264adc3ffba650c9f1951cbab3e2483f7cb2cefcfb817813"
   }
  }
 },
 "nbformat": 4,
 "nbformat_minor": 2
}
