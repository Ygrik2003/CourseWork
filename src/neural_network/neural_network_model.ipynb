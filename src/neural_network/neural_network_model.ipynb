{
 "cells": [
  {
   "cell_type": "code",
   "execution_count": 95,
   "metadata": {},
   "outputs": [],
   "source": [
    "import pandas as pd\n",
    "import numpy as np\n",
    "import matplotlib.pyplot as plt\n",
    "import random\n",
    "import tensorflow as tf\n",
    "\n",
    "from tensorflow import keras\n",
    "from keras.models import Sequential\n",
    "from keras.layers import Input, Dense, Dropout, Activation\n",
    "from keras.optimizers import Adam, SGD, Adagrad\n",
    "from keras.initializers import glorot_uniform\n",
    "import seaborn as sns"
   ]
  },
  {
   "cell_type": "markdown",
   "metadata": {},
   "source": [
    "# HYPER-PARAMETERS"
   ]
  },
  {
   "cell_type": "code",
   "execution_count": 96,
   "metadata": {},
   "outputs": [],
   "source": [
    "TEST_SIZE = 0.2"
   ]
  },
  {
   "cell_type": "markdown",
   "metadata": {},
   "source": [
    "# Optimization"
   ]
  },
  {
   "cell_type": "code",
   "execution_count": 97,
   "metadata": {},
   "outputs": [],
   "source": [
    "def reduce_mem_usage(df : pd.DataFrame):\n",
    "    start_mem = df.memory_usage().sum() / 1024 ** 2\n",
    "    for col in df.columns:\n",
    "        col_type = df[col].dtypes\n",
    "        if str(col_type)[:5] == 'float':\n",
    "            c_min = df[col].min()\n",
    "            c_max = df[col].max()\n",
    "            if c_min > np.finfo('f2').min and c_max < np.finfo('f2').max:\n",
    "                df[col] = df[col].astype(np.float16)\n",
    "            elif c_min > np.finfo('f4').min and c_max < np.finfo('f4').max:\n",
    "                df[col] = df[col].astype(np.float32)\n",
    "            else:\n",
    "                df[col] = df[col].astype(np.float64)\n",
    "        elif str(col_type)[:3] == 'int':\n",
    "            c_min = df[col].min()\n",
    "            c_max = df[col].max()\n",
    "            if c_min > np.iinfo('i1').min and c_max < np.iinfo('i1').max:\n",
    "                df[col] = df[col].astype(np.int8)\n",
    "            elif c_min > np.iinfo('i2').min and c_max < np.iinfo('i2').max:\n",
    "                df[col] = df[col].astype(np.int16)\n",
    "            elif c_min > np.iinfo('i4').min and c_max < np.iinfo('i4').max:\n",
    "                df[col] = df[col].astype(np.int32)\n",
    "            elif c_min > np.iinfo('i8').min and c_max < np.iinfo('i8').max:\n",
    "                df[col] = df[col].astype(np.int64)\n",
    "        elif str(col_type)[:8] == 'datetime':\n",
    "            df[col] = df[col].astype('category')\n",
    "    end_mem = df.memory_usage().sum() / 1024 ** 2\n",
    "    print('Потребление памяти меньше на',\n",
    "         round(start_mem - end_mem, 2),\n",
    "         'Мб (минус',\n",
    "         round(100 * (start_mem - end_mem) / start_mem, 1),\n",
    "         '%)')\n",
    "    return df"
   ]
  },
  {
   "cell_type": "markdown",
   "metadata": {},
   "source": [
    "# Data extract"
   ]
  },
  {
   "cell_type": "code",
   "execution_count": 98,
   "metadata": {},
   "outputs": [],
   "source": [
    "methods = {\n",
    "    \"SHG Intensity\" : [\n",
    "        \"SHG Intensity Mean\",\n",
    "        \"SHG Intensity MAD\",\n",
    "        \"SHG Intensity Contrast\",\n",
    "        \"SHG Intensity Correlation\",\n",
    "        \"SHG Intensity Entropy\",\n",
    "        \"SHG Intensity ASM\",\n",
    "        \"SHG Intensity IDM\"\n",
    "    ],\n",
    "    \"R-Ratio\" : [\n",
    "        \"R-Ratio Mean\",\n",
    "        \"R-Ratio MAD\",\n",
    "        \"R-Ratio Contrast\",\n",
    "        \"R-Ratio Correlation\",\n",
    "        \"R-Ratio Entropy\",\n",
    "        \"R-Ratio ASM\"\n",
    "    ],\n",
    "    \"Degree of Circular Polarization\" : [\n",
    "        \"Degree of Circular Polarization Mean\",\n",
    "        \"Degree of Circular Polarization MAD\",\n",
    "        \"Degree of Circular Polarization Contrast\",\n",
    "        \"Degree of Circular Polarization Correlation\",\n",
    "        \"Degree of Circular Polarization Entropy\",\n",
    "        \"Degree of Circular Polarization ASM\",\n",
    "        \"Degree of Circular Polarization IDM\"\n",
    "    ],\n",
    "    \"SHG-CD\" : [ \n",
    "        \"SHG-CD MAD\",\n",
    "        \"SHG-CD Contrast\",\n",
    "        \"SHG-CD Correlation\",\n",
    "        \"SHG-CD Entropy\",\n",
    "        \"SHG-CD ASM\",\n",
    "        \"SHG-CD IDM\"\n",
    "    ],\n",
    "    \"SHG-LD\" : [\n",
    "        \"SHG-LD MAD\",\n",
    "        \"SHG-LD Contrast\",\n",
    "        \"SHG-LD Correlation\",\n",
    "        \"SHG-LD Entropy\",\n",
    "        \"SHG-LD ASM\",\n",
    "        \"SHG-LD IDM\"\n",
    "    ]\n",
    "}\n",
    "\n",
    "x_axis = sum([methods[key] for key in methods.keys()], [])\n",
    "# x_axis += \"Pixel Density\"\n",
    "\n",
    "y_axis = \"2-Group Tag\"\n",
    "\n",
    "def getData(table_number):\n",
    "    data = pd.read_excel(io=\"../../Data/41598_2022_13623_MOESM3_ESM.xlsx\", \n",
    "    sheet_name=f\"{1 << 2 * (table_number - 1)} Subimage Training\")\n",
    "    data = reduce_mem_usage(data)\n",
    "    data = (data - data.min()) / (data.max() - data.min())\n",
    "    #data[\"2-Group Tag\"] = data[y_axis] == 2\n",
    "    return data\n"
   ]
  },
  {
   "cell_type": "markdown",
   "metadata": {},
   "source": [
    "# Init data"
   ]
  },
  {
   "cell_type": "code",
   "execution_count": 99,
   "metadata": {},
   "outputs": [
    {
     "name": "stdout",
     "output_type": "stream",
     "text": [
      "Потребление памяти меньше на 0.69 Мб (минус 75.4 %)\n",
      "1521 1309\n",
      "Weights: [0.4625441696113074, 0.5374558303886926]\n"
     ]
    }
   ],
   "source": [
    "data = getData(5)\n",
    "\n",
    "data_true = data[data[y_axis] == 1]\n",
    "data_false = data[data[y_axis] == 0]\n",
    "\n",
    "data['weights'] = data[y_axis].map({1: 100 * len(data_false) // len(data), 0: 100 * len(data_true) // len(data)})\n",
    "\n",
    "train_data = data.sample(frac=1-TEST_SIZE, random_state=0, weights='weights')\n",
    "test_data = data.drop(train_data.index)\n",
    "X_train, X_test = train_data[x_axis].to_numpy(), test_data[x_axis].to_numpy()\n",
    "y_train, y_test = train_data[y_axis].to_numpy(), test_data[y_axis].to_numpy()\n",
    "\n",
    "X_train_data_true = X_train[y_train == 1]\n",
    "X_train_data_false = X_train[y_train == 0]\n",
    "print(len(X_train_data_false), len(X_train_data_true))\n",
    "\n",
    "weights = [len(X_train_data_true) / len(X_train), len(X_train_data_false) / len(X_train)]\n",
    "print(\"Weights:\", weights)\n",
    "\n",
    "n_samples, n_features, batch_size = *X_train.shape, 128"
   ]
  },
  {
   "cell_type": "code",
   "execution_count": 100,
   "metadata": {},
   "outputs": [
    {
     "data": {
      "text/plain": [
       "(0       45\n",
       " 1       45\n",
       " 2       45\n",
       " 3       45\n",
       " 4       45\n",
       "         ..\n",
       " 3532    54\n",
       " 3533    54\n",
       " 3534    54\n",
       " 3535    54\n",
       " 3536    54\n",
       " Name: weights, Length: 3537, dtype: int64,\n",
       " 0       0.0\n",
       " 1       0.0\n",
       " 2       0.0\n",
       " 3       0.0\n",
       " 4       0.0\n",
       "        ... \n",
       " 3532    1.0\n",
       " 3533    1.0\n",
       " 3534    1.0\n",
       " 3535    1.0\n",
       " 3536    1.0\n",
       " Name: 2-Group Tag, Length: 3537, dtype: float32)"
      ]
     },
     "execution_count": 100,
     "metadata": {},
     "output_type": "execute_result"
    }
   ],
   "source": [
    "data['weights'], data[y_axis]"
   ]
  },
  {
   "cell_type": "code",
   "execution_count": 101,
   "metadata": {},
   "outputs": [],
   "source": [
    "#model = Sequential()\n",
    "# model.add(Input(shape=(32,)))\n",
    "# model.add(Dense(16, activation='relu'))\n",
    "# model.add(Dropout(.8, input_shape=(8,)))\n",
    "# model.add(Dense(4, activation='relu'))\n",
    "# model.add(Dense(1, activation='sigmoid'))\n",
    "# model.compile(loss='binary_crossentropy', optimizer='sgd', metrics=['accuracy',tf.keras.metrics.TruePositives()], loss_weights=weights[::-1]) # \n",
    "def getModel(dropout=0.00, neurons_first=500, neurons_second=250, learningRate=0.1):\n",
    "    model = Sequential()\n",
    "    model.add(Dense(neurons_first, activation='relu', input_dim=n_features, \n",
    "                    kernel_initializer=glorot_uniform(),\n",
    "                    name='Dense_first'))\n",
    "    model.add(Dense(neurons_first, activation='relu', input_dim=n_features, \n",
    "                kernel_initializer=glorot_uniform(),\n",
    "                name='Dense_first1'))\n",
    "    model.add(Dropout(dropout, name='Dropout_null'))\n",
    "    model.add(Dense(neurons_first, activation='relu', input_dim=n_features, \n",
    "                kernel_initializer=glorot_uniform(),\n",
    "                name='Dense_first2'))\n",
    "    model.add(Dense(neurons_first, activation='relu', input_dim=n_features, \n",
    "                kernel_initializer=glorot_uniform(),\n",
    "                name='Dense_first3'))\n",
    "    model.add(Dropout(dropout, name='Dropout_first'))\n",
    "    model.add(Dense(neurons_second, activation='relu', kernel_initializer=glorot_uniform(),\n",
    "                    name='Dense_second'))\n",
    "    model.add(Dropout(dropout, name='Dropout_second'))\n",
    "    model.add(Dense(1, activation='sigmoid',\n",
    "                    kernel_initializer=glorot_uniform(),\n",
    "                    name='Result'))\n",
    "    model.compile(loss='binary_crossentropy',\n",
    "                  optimizer=Adagrad(learning_rate=learningRate), metrics=['accuracy'], loss_weights=weights[::-1])\n",
    "    return model\n"
   ]
  },
  {
   "cell_type": "code",
   "execution_count": 102,
   "metadata": {},
   "outputs": [
    {
     "name": "stdout",
     "output_type": "stream",
     "text": [
      "Epoch 1/50\n",
      "23/23 [==============================] - 3s 54ms/step - loss: 0.3574 - accuracy: 0.5710 - val_loss: 0.2996 - val_accuracy: 0.6634\n",
      "Epoch 2/50\n",
      "23/23 [==============================] - 1s 31ms/step - loss: 0.2922 - accuracy: 0.7473 - val_loss: 0.3102 - val_accuracy: 0.6818\n",
      "Epoch 3/50\n",
      "23/23 [==============================] - 1s 30ms/step - loss: 0.2125 - accuracy: 0.8339 - val_loss: 0.4990 - val_accuracy: 0.6945\n",
      "Epoch 4/50\n",
      "23/23 [==============================] - 1s 30ms/step - loss: 0.1970 - accuracy: 0.8604 - val_loss: 0.5316 - val_accuracy: 0.4653\n",
      "Epoch 5/50\n",
      "23/23 [==============================] - 1s 30ms/step - loss: 0.1777 - accuracy: 0.8618 - val_loss: 0.1687 - val_accuracy: 0.8812\n",
      "Epoch 6/50\n",
      "23/23 [==============================] - 1s 30ms/step - loss: 0.1665 - accuracy: 0.8735 - val_loss: 0.1579 - val_accuracy: 0.8628\n",
      "Epoch 7/50\n",
      "23/23 [==============================] - 1s 32ms/step - loss: 0.1526 - accuracy: 0.8806 - val_loss: 0.2205 - val_accuracy: 0.8246\n",
      "Epoch 8/50\n",
      "23/23 [==============================] - 1s 30ms/step - loss: 0.1522 - accuracy: 0.8827 - val_loss: 0.1885 - val_accuracy: 0.8458\n",
      "Epoch 9/50\n",
      "23/23 [==============================] - 1s 31ms/step - loss: 0.1462 - accuracy: 0.8845 - val_loss: 0.1335 - val_accuracy: 0.9081\n",
      "Epoch 10/50\n",
      "23/23 [==============================] - 1s 31ms/step - loss: 0.1515 - accuracy: 0.8820 - val_loss: 0.1191 - val_accuracy: 0.9052\n",
      "Epoch 11/50\n",
      "23/23 [==============================] - 1s 37ms/step - loss: 0.1387 - accuracy: 0.8859 - val_loss: 0.1833 - val_accuracy: 0.8331\n",
      "Epoch 12/50\n",
      "23/23 [==============================] - 1s 39ms/step - loss: 0.1425 - accuracy: 0.8883 - val_loss: 0.2373 - val_accuracy: 0.7680\n",
      "Epoch 13/50\n",
      "23/23 [==============================] - 1s 37ms/step - loss: 0.1438 - accuracy: 0.8852 - val_loss: 0.1446 - val_accuracy: 0.8798\n",
      "Epoch 14/50\n",
      "23/23 [==============================] - 1s 40ms/step - loss: 0.1375 - accuracy: 0.8926 - val_loss: 0.1149 - val_accuracy: 0.9066\n",
      "Epoch 15/50\n",
      "23/23 [==============================] - 1s 32ms/step - loss: 0.1351 - accuracy: 0.8912 - val_loss: 0.1625 - val_accuracy: 0.8784\n",
      "Epoch 16/50\n",
      "23/23 [==============================] - 1s 32ms/step - loss: 0.1366 - accuracy: 0.8919 - val_loss: 0.1326 - val_accuracy: 0.8883\n",
      "Epoch 17/50\n",
      "23/23 [==============================] - 1s 32ms/step - loss: 0.1359 - accuracy: 0.8905 - val_loss: 0.1868 - val_accuracy: 0.8501\n",
      "Epoch 18/50\n",
      "23/23 [==============================] - 1s 34ms/step - loss: 0.1398 - accuracy: 0.8929 - val_loss: 0.1547 - val_accuracy: 0.8713\n",
      "Epoch 19/50\n",
      "23/23 [==============================] - 1s 32ms/step - loss: 0.1391 - accuracy: 0.8890 - val_loss: 0.1441 - val_accuracy: 0.8769\n",
      "Epoch 20/50\n",
      "23/23 [==============================] - 1s 33ms/step - loss: 0.1359 - accuracy: 0.8905 - val_loss: 0.1145 - val_accuracy: 0.9151\n",
      "Epoch 21/50\n",
      "23/23 [==============================] - 1s 32ms/step - loss: 0.1290 - accuracy: 0.8940 - val_loss: 0.1615 - val_accuracy: 0.8557\n",
      "Epoch 22/50\n",
      "23/23 [==============================] - 1s 32ms/step - loss: 0.1372 - accuracy: 0.8880 - val_loss: 0.1296 - val_accuracy: 0.8854\n",
      "Epoch 23/50\n",
      "23/23 [==============================] - 1s 36ms/step - loss: 0.1266 - accuracy: 0.8933 - val_loss: 0.1368 - val_accuracy: 0.8996\n",
      "Epoch 24/50\n",
      "23/23 [==============================] - 1s 32ms/step - loss: 0.1310 - accuracy: 0.8958 - val_loss: 0.1220 - val_accuracy: 0.8996\n",
      "Epoch 25/50\n",
      "23/23 [==============================] - 1s 32ms/step - loss: 0.1330 - accuracy: 0.8919 - val_loss: 0.1095 - val_accuracy: 0.9151\n",
      "Epoch 26/50\n",
      "23/23 [==============================] - 1s 32ms/step - loss: 0.1280 - accuracy: 0.8958 - val_loss: 0.1714 - val_accuracy: 0.8402\n",
      "Epoch 27/50\n",
      "23/23 [==============================] - 1s 32ms/step - loss: 0.1345 - accuracy: 0.8880 - val_loss: 0.1205 - val_accuracy: 0.9264\n",
      "Epoch 28/50\n",
      "23/23 [==============================] - 1s 34ms/step - loss: 0.1291 - accuracy: 0.8919 - val_loss: 0.2947 - val_accuracy: 0.8048\n",
      "Epoch 29/50\n",
      "23/23 [==============================] - 1s 31ms/step - loss: 0.1435 - accuracy: 0.8880 - val_loss: 0.1142 - val_accuracy: 0.9095\n",
      "Epoch 30/50\n",
      "23/23 [==============================] - 1s 32ms/step - loss: 0.1317 - accuracy: 0.8869 - val_loss: 0.1161 - val_accuracy: 0.9208\n",
      "Epoch 31/50\n",
      "23/23 [==============================] - 1s 32ms/step - loss: 0.1323 - accuracy: 0.8940 - val_loss: 0.1469 - val_accuracy: 0.8883\n",
      "Epoch 32/50\n",
      "23/23 [==============================] - 1s 32ms/step - loss: 0.1259 - accuracy: 0.8972 - val_loss: 0.1195 - val_accuracy: 0.9222\n",
      "Epoch 33/50\n",
      "23/23 [==============================] - 1s 36ms/step - loss: 0.1332 - accuracy: 0.8929 - val_loss: 0.2010 - val_accuracy: 0.8006\n",
      "Epoch 34/50\n",
      "23/23 [==============================] - 1s 32ms/step - loss: 0.1288 - accuracy: 0.8958 - val_loss: 0.1334 - val_accuracy: 0.9109\n",
      "Epoch 35/50\n",
      "23/23 [==============================] - 1s 32ms/step - loss: 0.1280 - accuracy: 0.8951 - val_loss: 0.1113 - val_accuracy: 0.9038\n",
      "Epoch 36/50\n",
      "23/23 [==============================] - 1s 32ms/step - loss: 0.1261 - accuracy: 0.8947 - val_loss: 0.1342 - val_accuracy: 0.9066\n",
      "Epoch 37/50\n",
      "23/23 [==============================] - 1s 32ms/step - loss: 0.1268 - accuracy: 0.8929 - val_loss: 0.1200 - val_accuracy: 0.9250\n",
      "Epoch 38/50\n",
      "23/23 [==============================] - 1s 35ms/step - loss: 0.1247 - accuracy: 0.9004 - val_loss: 0.1628 - val_accuracy: 0.8713\n",
      "Epoch 39/50\n",
      "23/23 [==============================] - 1s 32ms/step - loss: 0.1268 - accuracy: 0.8929 - val_loss: 0.2317 - val_accuracy: 0.7709\n",
      "Epoch 40/50\n",
      "23/23 [==============================] - 1s 32ms/step - loss: 0.1335 - accuracy: 0.8919 - val_loss: 0.1138 - val_accuracy: 0.9264\n",
      "Epoch 41/50\n",
      "23/23 [==============================] - 1s 32ms/step - loss: 0.1195 - accuracy: 0.9035 - val_loss: 0.1160 - val_accuracy: 0.9279\n",
      "Epoch 42/50\n",
      "23/23 [==============================] - 1s 36ms/step - loss: 0.1251 - accuracy: 0.8954 - val_loss: 0.1340 - val_accuracy: 0.9264\n",
      "Epoch 43/50\n",
      "23/23 [==============================] - 1s 40ms/step - loss: 0.1254 - accuracy: 0.8947 - val_loss: 0.5068 - val_accuracy: 0.7270\n",
      "Epoch 44/50\n",
      "23/23 [==============================] - 1s 33ms/step - loss: 0.1600 - accuracy: 0.8714 - val_loss: 0.1118 - val_accuracy: 0.9095\n",
      "Epoch 45/50\n",
      "23/23 [==============================] - 1s 32ms/step - loss: 0.1230 - accuracy: 0.8996 - val_loss: 0.1119 - val_accuracy: 0.9081\n",
      "Epoch 46/50\n",
      "23/23 [==============================] - 1s 32ms/step - loss: 0.1223 - accuracy: 0.9011 - val_loss: 0.1117 - val_accuracy: 0.9208\n",
      "Epoch 47/50\n",
      "23/23 [==============================] - 1s 35ms/step - loss: 0.1240 - accuracy: 0.9000 - val_loss: 0.1112 - val_accuracy: 0.9038\n",
      "Epoch 48/50\n",
      "23/23 [==============================] - 1s 33ms/step - loss: 0.1274 - accuracy: 0.8943 - val_loss: 0.3459 - val_accuracy: 0.7567\n",
      "Epoch 49/50\n",
      "23/23 [==============================] - 1s 36ms/step - loss: 0.1294 - accuracy: 0.8869 - val_loss: 0.1319 - val_accuracy: 0.9066\n",
      "Epoch 50/50\n",
      "23/23 [==============================] - 1s 32ms/step - loss: 0.1245 - accuracy: 0.8954 - val_loss: 0.1368 - val_accuracy: 0.8840\n"
     ]
    }
   ],
   "source": [
    "increasedDropout = 0.5\n",
    "increasedNeurons1 = 1000\n",
    "model = getModel(increasedDropout, neurons_first=increasedNeurons1)\n",
    "net = model.fit(X_train, y_train, batch_size=batch_size, epochs=50, validation_data=(X_test, y_test))"
   ]
  },
  {
   "cell_type": "code",
   "execution_count": 103,
   "metadata": {},
   "outputs": [
    {
     "name": "stdout",
     "output_type": "stream",
     "text": [
      "111/111 [==============================] - 1s 5ms/step\n"
     ]
    }
   ],
   "source": [
    "y_predict = model.predict(data[x_axis])\n",
    "confusion_matrix = tf.math.confusion_matrix(data[y_axis], np.round(y_predict))"
   ]
  },
  {
   "cell_type": "code",
   "execution_count": 104,
   "metadata": {},
   "outputs": [
    {
     "name": "stdout",
     "output_type": "stream",
     "text": [
      "tf.Tensor(\n",
      "[[1535  408]\n",
      " [  22 1572]], shape=(2, 2), dtype=int32)\n"
     ]
    }
   ],
   "source": [
    "print(confusion_matrix)\n"
   ]
  },
  {
   "cell_type": "code",
   "execution_count": 105,
   "metadata": {},
   "outputs": [],
   "source": [
    "# data[y_axis] = data[y_axis].astype('object')\n",
    "# sns.pairplot(data, hue=y_axis, vars=methods[\"SHG Intensity\"])"
   ]
  }
 ],
 "metadata": {
  "kernelspec": {
   "display_name": "CourseWork",
   "language": "python",
   "name": "python3"
  },
  "language_info": {
   "codemirror_mode": {
    "name": "ipython",
    "version": 3
   },
   "file_extension": ".py",
   "mimetype": "text/x-python",
   "name": "python",
   "nbconvert_exporter": "python",
   "pygments_lexer": "ipython3",
   "version": "3.9.5"
  },
  "vscode": {
   "interpreter": {
    "hash": "084108f72d432de2264adc3ffba650c9f1951cbab3e2483f7cb2cefcfb817813"
   }
  }
 },
 "nbformat": 4,
 "nbformat_minor": 2
}
