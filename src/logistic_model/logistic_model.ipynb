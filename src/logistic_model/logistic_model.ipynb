{
 "cells": [
  {
   "cell_type": "code",
   "execution_count": 2,
   "metadata": {},
   "outputs": [],
   "source": [
    "import pandas as pd\n",
    "import numpy as np\n",
    "import matplotlib.pyplot as plt\n",
    "from sklearn.model_selection import ShuffleSplit, StratifiedKFold, GridSearchCV, train_test_split, cross_val_score\n",
    "from sklearn.linear_model import LogisticRegression, LogisticRegressionCV\n",
    "from sklearn.svm import LinearSVC, SVC\n",
    "from sklearn.metrics import (\n",
    "    RocCurveDisplay, \n",
    "    ConfusionMatrixDisplay, \n",
    "    PrecisionRecallDisplay\n",
    ")\n",
    "from sklearn.metrics import (\n",
    "    accuracy_score, \n",
    "    f1_score, \n",
    "    precision_score, \n",
    "    recall_score, \n",
    "    roc_auc_score, \n",
    "    confusion_matrix, \n",
    "    precision_recall_curve, \n",
    "    roc_curve\n",
    ")\n",
    "from imblearn.under_sampling import TomekLinks\n",
    "from sklearn.neighbors import NearestNeighbors\n",
    "import random\n",
    "from storage_model import save_model, load_model\n"
   ]
  },
  {
   "cell_type": "markdown",
   "metadata": {},
   "source": [
    "# HYPER-PARAMETERS"
   ]
  },
  {
   "cell_type": "code",
   "execution_count": 3,
   "metadata": {},
   "outputs": [],
   "source": [
    "TEST_SIZE = 0.2\n",
    "N_SPLITS = 5\n",
    "REGRESSION_C = 10\n",
    "PART_NEIGHBOARDS = 0.3\n",
    "POSITIVE_SCALE = 3\n",
    "RANDOM_STATE = 341\n",
    "\n",
    "param_grid = [\n",
    "    {\n",
    "        'C': [50],\n",
    "        'penalty': ['l2'],\n",
    "        'solver': ['sag']\n",
    "    },\n",
    "\n",
    "\n",
    "]"
   ]
  },
  {
   "cell_type": "markdown",
   "metadata": {},
   "source": [
    "# Optimization"
   ]
  },
  {
   "cell_type": "code",
   "execution_count": 4,
   "metadata": {},
   "outputs": [],
   "source": [
    "def reduce_mem_usage(df : pd.DataFrame):\n",
    "    start_mem = df.memory_usage().sum() / 1024 ** 2\n",
    "    for col in df.columns:\n",
    "        col_type = df[col].dtypes\n",
    "        if str(col_type)[:5] == 'float':\n",
    "            c_min = df[col].min()\n",
    "            c_max = df[col].max()\n",
    "            if c_min > np.finfo('f2').min and c_max < np.finfo('f2').max:\n",
    "                df[col] = df[col].astype(np.float16)\n",
    "            elif c_min > np.finfo('f4').min and c_max < np.finfo('f4').max:\n",
    "                df[col] = df[col].astype(np.float32)\n",
    "            else:\n",
    "                df[col] = df[col].astype(np.float64)\n",
    "        elif str(col_type)[:3] == 'int':\n",
    "            c_min = df[col].min()\n",
    "            c_max = df[col].max()\n",
    "            if c_min > np.iinfo('i1').min and c_max < np.iinfo('i1').max:\n",
    "                df[col] = df[col].astype(np.int8)\n",
    "            elif c_min > np.iinfo('i2').min and c_max < np.iinfo('i2').max:\n",
    "                df[col] = df[col].astype(np.int16)\n",
    "            elif c_min > np.iinfo('i4').min and c_max < np.iinfo('i4').max:\n",
    "                df[col] = df[col].astype(np.int32)\n",
    "            elif c_min > np.iinfo('i8').min and c_max < np.iinfo('i8').max:\n",
    "                df[col] = df[col].astype(np.int64)\n",
    "        elif str(col_type)[:8] == 'datetime':\n",
    "            df[col] = df[col].astype('category')\n",
    "    end_mem = df.memory_usage().sum() / 1024 ** 2\n",
    "    print('Потребление памяти меньше на',\n",
    "         round(start_mem - end_mem, 2),\n",
    "         'Мб (минус',\n",
    "         round(100 * (start_mem - end_mem) / start_mem, 1),\n",
    "         '%)')\n",
    "    return df"
   ]
  },
  {
   "attachments": {},
   "cell_type": "markdown",
   "metadata": {},
   "source": [
    "# Data extract"
   ]
  },
  {
   "cell_type": "code",
   "execution_count": 5,
   "metadata": {},
   "outputs": [],
   "source": [
    "methods = {\n",
    "    \"SHG Intensity\" : [\n",
    "        \"SHG Intensity Mean\",\n",
    "        \"SHG Intensity MAD\",\n",
    "        \"SHG Intensity Contrast\",\n",
    "        \"SHG Intensity Correlation\",\n",
    "        \"SHG Intensity Entropy\",\n",
    "        \"SHG Intensity ASM\",\n",
    "        \"SHG Intensity IDM\"\n",
    "    ],\n",
    "    \"R-Ratio\" : [\n",
    "        \"R-Ratio Mean\",\n",
    "        \"R-Ratio MAD\",\n",
    "        \"R-Ratio Contrast\",\n",
    "        \"R-Ratio Correlation\",\n",
    "        \"R-Ratio Entropy\",\n",
    "        \"R-Ratio ASM\"\n",
    "    ],\n",
    "    \"Degree of Circular Polarization\" : [\n",
    "        \"Degree of Circular Polarization Mean\",\n",
    "        \"Degree of Circular Polarization MAD\",\n",
    "        \"Degree of Circular Polarization Contrast\",\n",
    "        \"Degree of Circular Polarization Correlation\",\n",
    "        \"Degree of Circular Polarization Entropy\",\n",
    "        \"Degree of Circular Polarization ASM\",\n",
    "        \"Degree of Circular Polarization IDM\"\n",
    "    ],\n",
    "    \"SHG-CD\" : [ \n",
    "        \"SHG-CD MAD\",\n",
    "        \"SHG-CD Contrast\",\n",
    "        \"SHG-CD Correlation\",\n",
    "        \"SHG-CD Entropy\",\n",
    "        \"SHG-CD ASM\",\n",
    "        \"SHG-CD IDM\"\n",
    "    ],\n",
    "    \"SHG-LD\" : [\n",
    "        \"SHG-LD MAD\",\n",
    "        \"SHG-LD Contrast\",\n",
    "        \"SHG-LD Correlation\",\n",
    "        \"SHG-LD Entropy\",\n",
    "        \"SHG-LD ASM\",\n",
    "        \"SHG-LD IDM\"\n",
    "    ],\n",
    "    \"Params\" : [\n",
    "        \"2-Group Tag\",\n",
    "        \"Pixel Density\",\n",
    "    ]\n",
    "}\n",
    "\n",
    "x_axis = sum([methods[key] for key in methods.keys() if key != \"Params\"], [])\n",
    "y_axis = methods[\"Params\"][0]\n",
    "def getData(table_number):\n",
    "    data = pd.read_excel(io=\"../../Data/41598_2022_13623_MOESM3_ESM.xlsx\", \n",
    "    sheet_name=f\"{1 << 2 * (table_number - 1)} Subimage Training\")\n",
    "    data = reduce_mem_usage(data)\n",
    "\n",
    "    data[\"2-Group Tag\"] = data[y_axis] == 2\n",
    "    return data\n"
   ]
  },
  {
   "attachments": {},
   "cell_type": "markdown",
   "metadata": {},
   "source": [
    "# Get predict"
   ]
  },
  {
   "cell_type": "code",
   "execution_count": 6,
   "metadata": {},
   "outputs": [],
   "source": [
    "estimator = ...\n",
    "def getModel(X, y):\n",
    "    global estimator\n",
    "\n",
    "    estimator = LogisticRegression(\n",
    "        max_iter=40000, \n",
    "        class_weight='balanced',\n",
    "        random_state=RANDOM_STATE\n",
    "    )\n",
    "\n",
    "    return GridSearchCV(estimator, param_grid, scoring='f1_weighted', verbose=2).fit(X, y)\n",
    "    # return estimator.fit(X, y)\n",
    "\n",
    "\n",
    "    "
   ]
  },
  {
   "cell_type": "code",
   "execution_count": 7,
   "metadata": {},
   "outputs": [],
   "source": [
    "def getPredict(model, X):\n",
    "    y = model.predict(X)\n",
    "    return y"
   ]
  },
  {
   "attachments": {},
   "cell_type": "markdown",
   "metadata": {
    "tags": [
     "parameters"
    ]
   },
   "source": [
    "# Model quality assessment"
   ]
  },
  {
   "cell_type": "code",
   "execution_count": 8,
   "metadata": {},
   "outputs": [],
   "source": [
    "def modelQualityAssessment(model, X_test, y_test):\n",
    "    y_predict = getPredict(model, X_test)\n",
    "\n",
    "    print(f'Accuracy score: %0.2f' % accuracy_score(y_test, y_predict, normalize=True))\n",
    "    print(f'F1 score: %0.2f' % f1_score(y_test, y_predict, average='weighted'))\n",
    "    print(f'Precision score: %0.2f' % precision_score(y_test, y_predict, average='weighted'))\n",
    "    print(f'Recall score: %0.2f' % recall_score(y_test, y_predict, average='weighted'))\n",
    "    print(f'ROC AUC score: %0.2f' % roc_auc_score(y_test, y_predict, average='weighted'))\n",
    "\n",
    "\n",
    "    ax = plt.gca()\n",
    "    svc_disp = PrecisionRecallDisplay.from_estimator(model, X_test, y_test, ax=ax) #?\n",
    "    rfc_disp = RocCurveDisplay.from_estimator(model, X_test, y_test, ax=ax) #?\n",
    "    plt.show()\n",
    "\n",
    "    cm = confusion_matrix(y_test, y_predict)\n",
    "    ConfusionMatrixDisplay(confusion_matrix=cm).plot()\n",
    "    plt.show()"
   ]
  },
  {
   "attachments": {},
   "cell_type": "markdown",
   "metadata": {},
   "source": [
    "# Calculate model"
   ]
  },
  {
   "cell_type": "code",
   "execution_count": 9,
   "metadata": {},
   "outputs": [],
   "source": [
    "def MyTomeLinks(X, y):\n",
    "    nbrsPositive = NearestNeighbors(n_neighbors=1).fit(X[y == True])\n",
    "    nbrsNegative = NearestNeighbors(n_neighbors=1).fit(X[y == False])\n",
    "\n",
    "    distances_positive, indices_positive = nbrsPositive.kneighbors(X[y == False])\n",
    "\n",
    "    distances_positive = distances_positive.ravel()\n",
    "    indices_positive = indices_positive.ravel()\n",
    "    print(max(distances_positive))\n",
    "    indices_nearest_positive = np.unique(indices_positive[distances_positive < PART_NEIGHBOARDS * max(distances_positive)])\n",
    "\n",
    "    distances_false, indices_false = nbrsPositive.kneighbors(X[y == True].iloc[indices_nearest_positive])\n",
    "\n",
    "    indices_nearest_negative = np.unique(indices_false)\n",
    "    indices_further_positive = np.unique(indices_positive[distances_positive > PART_NEIGHBOARDS * max(distances_positive)])\n",
    "\n",
    "\n",
    "    X_further_positive = X[y == True].iloc[indices_further_positive]\n",
    "    X_nearest_positive = X[y == True].iloc[indices_nearest_positive]\n",
    "    X_nearest_negative = X[y == False].iloc[indices_nearest_negative]\n",
    "\n",
    "\n",
    "    y_further_positive = y[y == True].iloc[indices_further_positive]\n",
    "    y_nearest_positive = y[y == True].iloc[indices_nearest_positive]\n",
    "    y_nearest_negative = y[y == False].iloc[indices_nearest_negative]\n",
    "\n",
    "    indices_further_negative = np.array(random.sample(tuple(X[y == False].index), min(POSITIVE_SCALE * len(X_further_positive), len(X[y == False].index))))\n",
    "\n",
    "    X_further_negative = X[y == False].loc[indices_further_negative]\n",
    "    y_further_negative = y[y == False].loc[indices_further_negative]\n",
    "\n",
    "    X = pd.concat([X_further_positive, X_nearest_positive, X_nearest_negative, X_further_negative], ignore_index=False)\n",
    "    y = pd.concat([y_further_positive, y_nearest_positive, y_nearest_negative, y_further_negative], ignore_index=False)\n",
    "\n",
    "    return X, y"
   ]
  },
  {
   "cell_type": "code",
   "execution_count": 10,
   "metadata": {},
   "outputs": [
    {
     "name": "stdout",
     "output_type": "stream",
     "text": [
      "Потребление памяти меньше на 0.69 Мб (минус 75.4 %)\n"
     ]
    }
   ],
   "source": [
    "data = getData(5)\n",
    "X = data[x_axis]\n",
    "y = data[y_axis]\n",
    "\n",
    "\n",
    "X_train, X_test, y_train, y_test = train_test_split(X, y, test_size=TEST_SIZE)"
   ]
  },
  {
   "cell_type": "code",
   "execution_count": 11,
   "metadata": {},
   "outputs": [
    {
     "name": "stdout",
     "output_type": "stream",
     "text": [
      "2829\n",
      "Fitting 5 folds for each of 1 candidates, totalling 5 fits\n",
      "[CV] END .......................C=50, penalty=l2, solver=sag; total time=   5.9s\n",
      "[CV] END .......................C=50, penalty=l2, solver=sag; total time=   6.0s\n",
      "[CV] END .......................C=50, penalty=l2, solver=sag; total time=   5.6s\n",
      "[CV] END .......................C=50, penalty=l2, solver=sag; total time=   5.8s\n",
      "[CV] END .......................C=50, penalty=l2, solver=sag; total time=   5.8s\n"
     ]
    }
   ],
   "source": [
    "# X_train, y_train = MyTomeLinks(X_train, y_train)\n",
    "# X_train, y_train = TomekLinks().fit_resample(X_train, y_train)\n",
    "print(len(X_train))\n",
    "model = getModel(X_train, y_train)"
   ]
  },
  {
   "cell_type": "code",
   "execution_count": 12,
   "metadata": {},
   "outputs": [
    {
     "name": "stdout",
     "output_type": "stream",
     "text": [
      "Accuracy score: 0.90\n",
      "F1 score: 0.90\n",
      "Precision score: 0.90\n",
      "Recall score: 0.90\n",
      "ROC AUC score: 0.90\n"
     ]
    },
    {
     "data": {
      "image/png": "[encoded data removed]",
      "text/plain": [
       "<Figure size 640x480 with 1 Axes>"
      ]
     },
     "metadata": {},
     "output_type": "display_data"
    },
    {
     "data": {
      "image/png": "[encoded data removed]",
      "text/plain": [
       "<Figure size 640x480 with 2 Axes>"
      ]
     },
     "metadata": {},
     "output_type": "display_data"
    }
   ],
   "source": [
    "modelQualityAssessment(model, X_test, y_test)"
   ]
  },
  {
   "cell_type": "code",
   "execution_count": 13,
   "metadata": {},
   "outputs": [
    {
     "ename": "Exception",
     "evalue": "This file doesn't exist",
     "output_type": "error",
     "traceback": [
      "\u001b[1;31m---------------------------------------------------------------------------\u001b[0m",
      "\u001b[1;31mException\u001b[0m                                 Traceback (most recent call last)",
      "\u001b[1;32ml:\\Projects\\CourseWork\\src\\logistic_model\\logistic_model.ipynb Ячейка 18\u001b[0m in \u001b[0;36m<cell line: 2>\u001b[1;34m()\u001b[0m\n\u001b[0;32m      <a href='vscode-notebook-cell:/l%3A/Projects/CourseWork/src/logistic_model/logistic_model.ipynb#X23sZmlsZQ%3D%3D?line=0'>1</a>\u001b[0m save_model(model, version\u001b[39m=\u001b[39m\u001b[39mNone\u001b[39;00m)\n\u001b[1;32m----> <a href='vscode-notebook-cell:/l%3A/Projects/CourseWork/src/logistic_model/logistic_model.ipynb#X23sZmlsZQ%3D%3D?line=1'>2</a>\u001b[0m model \u001b[39m=\u001b[39m load_model(\u001b[39m0\u001b[39;49m, \u001b[39m1\u001b[39;49m)\n",
      "File \u001b[1;32ml:\\Projects\\CourseWork\\src\\logistic_model\\storage_model.py:47\u001b[0m, in \u001b[0;36mload_model\u001b[1;34m(version, attempt)\u001b[0m\n\u001b[0;32m     45\u001b[0m         \u001b[39mbreak\u001b[39;00m\n\u001b[0;32m     46\u001b[0m \u001b[39melse\u001b[39;00m:\n\u001b[1;32m---> 47\u001b[0m     \u001b[39mraise\u001b[39;00m \u001b[39mException\u001b[39;00m(\u001b[39m'\u001b[39m\u001b[39mThis file doesn\u001b[39m\u001b[39m\\'\u001b[39;00m\u001b[39mt exist\u001b[39m\u001b[39m'\u001b[39m)\n\u001b[0;32m     49\u001b[0m \u001b[39mwith\u001b[39;00m \u001b[39mopen\u001b[39m(os\u001b[39m.\u001b[39mpath\u001b[39m.\u001b[39mjoin(path, get_format_name(version, attempt, model_file_format, date\u001b[39m.\u001b[39mdate())), \u001b[39m'\u001b[39m\u001b[39mrb\u001b[39m\u001b[39m'\u001b[39m) \u001b[39mas\u001b[39;00m model:\n\u001b[0;32m     50\u001b[0m     result \u001b[39m=\u001b[39m pickle\u001b[39m.\u001b[39mloads(model\u001b[39m.\u001b[39mread())\n",
      "\u001b[1;31mException\u001b[0m: This file doesn't exist"
     ]
    }
   ],
   "source": [
    "save_model(model, version=None)\n",
    "model = load_model(0, 0)"
   ]
  },
  {
   "cell_type": "code",
   "execution_count": null,
   "metadata": {},
   "outputs": [],
   "source": [
    "# cv = ShuffleSplit(n_splits=N_SPLITS, test_size=0.5, random_state=0)\n",
    "# print(\"%0.3f\" % cross_val_score(model, X_test, y_test, cv=cv, scoring='f1_weighted').mean())\n",
    "# print(\"%0.3f\" % cross_val_score(model, X_test, y_test, cv=cv, scoring='roc_auc').mean())"
   ]
  },
  {
   "cell_type": "code",
   "execution_count": null,
   "metadata": {},
   "outputs": [
    {
     "data": {
      "text/html": [
       "<style>#sk-container-id-1 {color: black;background-color: white;}#sk-container-id-1 pre{padding: 0;}#sk-container-id-1 div.sk-toggleable {background-color: white;}#sk-container-id-1 label.sk-toggleable__label {cursor: pointer;display: block;width: 100%;margin-bottom: 0;padding: 0.3em;box-sizing: border-box;text-align: center;}#sk-container-id-1 label.sk-toggleable__label-arrow:before {content: \"▸\";float: left;margin-right: 0.25em;color: #696969;}#sk-container-id-1 label.sk-toggleable__label-arrow:hover:before {color: black;}#sk-container-id-1 div.sk-estimator:hover label.sk-toggleable__label-arrow:before {color: black;}#sk-container-id-1 div.sk-toggleable__content {max-height: 0;max-width: 0;overflow: hidden;text-align: left;background-color: #f0f8ff;}#sk-container-id-1 div.sk-toggleable__content pre {margin: 0.2em;color: black;border-radius: 0.25em;background-color: #f0f8ff;}#sk-container-id-1 input.sk-toggleable__control:checked~div.sk-toggleable__content {max-height: 200px;max-width: 100%;overflow: auto;}#sk-container-id-1 input.sk-toggleable__control:checked~label.sk-toggleable__label-arrow:before {content: \"▾\";}#sk-container-id-1 div.sk-estimator input.sk-toggleable__control:checked~label.sk-toggleable__label {background-color: #d4ebff;}#sk-container-id-1 div.sk-label input.sk-toggleable__control:checked~label.sk-toggleable__label {background-color: #d4ebff;}#sk-container-id-1 input.sk-hidden--visually {border: 0;clip: rect(1px 1px 1px 1px);clip: rect(1px, 1px, 1px, 1px);height: 1px;margin: -1px;overflow: hidden;padding: 0;position: absolute;width: 1px;}#sk-container-id-1 div.sk-estimator {font-family: monospace;background-color: #f0f8ff;border: 1px dotted black;border-radius: 0.25em;box-sizing: border-box;margin-bottom: 0.5em;}#sk-container-id-1 div.sk-estimator:hover {background-color: #d4ebff;}#sk-container-id-1 div.sk-parallel-item::after {content: \"\";width: 100%;border-bottom: 1px solid gray;flex-grow: 1;}#sk-container-id-1 div.sk-label:hover label.sk-toggleable__label {background-color: #d4ebff;}#sk-container-id-1 div.sk-serial::before {content: \"\";position: absolute;border-left: 1px solid gray;box-sizing: border-box;top: 0;bottom: 0;left: 50%;z-index: 0;}#sk-container-id-1 div.sk-serial {display: flex;flex-direction: column;align-items: center;background-color: white;padding-right: 0.2em;padding-left: 0.2em;position: relative;}#sk-container-id-1 div.sk-item {position: relative;z-index: 1;}#sk-container-id-1 div.sk-parallel {display: flex;align-items: stretch;justify-content: center;background-color: white;position: relative;}#sk-container-id-1 div.sk-item::before, #sk-container-id-1 div.sk-parallel-item::before {content: \"\";position: absolute;border-left: 1px solid gray;box-sizing: border-box;top: 0;bottom: 0;left: 50%;z-index: -1;}#sk-container-id-1 div.sk-parallel-item {display: flex;flex-direction: column;z-index: 1;position: relative;background-color: white;}#sk-container-id-1 div.sk-parallel-item:first-child::after {align-self: flex-end;width: 50%;}#sk-container-id-1 div.sk-parallel-item:last-child::after {align-self: flex-start;width: 50%;}#sk-container-id-1 div.sk-parallel-item:only-child::after {width: 0;}#sk-container-id-1 div.sk-dashed-wrapped {border: 1px dashed gray;margin: 0 0.4em 0.5em 0.4em;box-sizing: border-box;padding-bottom: 0.4em;background-color: white;}#sk-container-id-1 div.sk-label label {font-family: monospace;font-weight: bold;display: inline-block;line-height: 1.2em;}#sk-container-id-1 div.sk-label-container {text-align: center;}#sk-container-id-1 div.sk-container {/* jupyter's `normalize.less` sets `[hidden] { display: none; }` but bootstrap.min.css set `[hidden] { display: none !important; }` so we also need the `!important` here to be able to override the default hidden behavior on the sphinx rendered scikit-learn.org. See: https://github.com/scikit-learn/scikit-learn/issues/21755 */display: inline-block !important;position: relative;}#sk-container-id-1 div.sk-text-repr-fallback {display: none;}</style><div id=\"sk-container-id-1\" class=\"sk-top-container\"><div class=\"sk-text-repr-fallback\"><pre>LogisticRegression(C=50, class_weight=&#x27;balanced&#x27;, max_iter=40000,\n",
       "                   random_state=341, solver=&#x27;sag&#x27;)</pre><b>In a Jupyter environment, please rerun this cell to show the HTML representation or trust the notebook. <br />On GitHub, the HTML representation is unable to render, please try loading this page with nbviewer.org.</b></div><div class=\"sk-container\" hidden><div class=\"sk-item\"><div class=\"sk-estimator sk-toggleable\"><input class=\"sk-toggleable__control sk-hidden--visually\" id=\"sk-estimator-id-1\" type=\"checkbox\" checked><label for=\"sk-estimator-id-1\" class=\"sk-toggleable__label sk-toggleable__label-arrow\">LogisticRegression</label><div class=\"sk-toggleable__content\"><pre>LogisticRegression(C=50, class_weight=&#x27;balanced&#x27;, max_iter=40000,\n",
       "                   random_state=341, solver=&#x27;sag&#x27;)</pre></div></div></div></div></div>"
      ],
      "text/plain": [
       "LogisticRegression(C=50, class_weight='balanced', max_iter=40000,\n",
       "                   random_state=341, solver='sag')"
      ]
     },
     "execution_count": 14,
     "metadata": {},
     "output_type": "execute_result"
    }
   ],
   "source": [
    "model.best_estimator_"
   ]
  },
  {
   "cell_type": "code",
   "execution_count": null,
   "metadata": {},
   "outputs": [],
   "source": []
  }
 ],
 "metadata": {
  "kernelspec": {
   "display_name": "Python 3.9.6 64-bit",
   "language": "python",
   "name": "python3"
  },
  "language_info": {
   "codemirror_mode": {
    "name": "ipython",
    "version": 3
   },
   "file_extension": ".py",
   "mimetype": "text/x-python",
   "name": "python",
   "nbconvert_exporter": "python",
   "pygments_lexer": "ipython3",
   "version": "3.9.6"
  },
  "orig_nbformat": 4,
  "vscode": {
   "interpreter": {
    "hash": "b0d65978ef22320f850bbecabe957efd87e6899416b1f53b245d9150f3797e5e"
   }
  }
 },
 "nbformat": 4,
 "nbformat_minor": 2
}
