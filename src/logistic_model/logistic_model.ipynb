{
 "cells": [
  {
   "cell_type": "code",
   "execution_count": 1,
   "metadata": {},
   "outputs": [],
   "source": [
    "import pandas as pd\n",
    "import numpy as np\n",
    "import matplotlib.pyplot as plt\n",
    "from sklearn.model_selection import ShuffleSplit, StratifiedKFold, GridSearchCV, train_test_split, cross_val_score\n",
    "from sklearn.linear_model import LogisticRegression, LogisticRegressionCV, LinearRegression\n",
    "from sklearn.svm import LinearSVC, SVC\n",
    "from sklearn.metrics import (\n",
    "    RocCurveDisplay, \n",
    "    ConfusionMatrixDisplay, \n",
    "    PrecisionRecallDisplay\n",
    ")\n",
    "from sklearn.metrics import (\n",
    "    accuracy_score, \n",
    "    f1_score, \n",
    "    precision_score, \n",
    "    recall_score, \n",
    "    roc_auc_score, \n",
    "    confusion_matrix, \n",
    "    precision_recall_curve, \n",
    "    roc_curve\n",
    ")\n",
    "from imblearn.under_sampling import TomekLinks\n",
    "from sklearn.neighbors import NearestNeighbors\n",
    "import random\n",
    "from storage_model import save_model, load_model\n",
    "import seaborn as sns\n",
    "\n",
    "from matplotlib.pyplot import imshow\n"
   ]
  },
  {
   "attachments": {},
   "cell_type": "markdown",
   "metadata": {},
   "source": [
    "# HYPER-PARAMETERS"
   ]
  },
  {
   "cell_type": "code",
   "execution_count": 2,
   "metadata": {},
   "outputs": [],
   "source": [
    "TEST_SIZE = 0.2\n",
    "N_SPLITS = 5\n",
    "REGRESSION_C = 10\n",
    "PART_NEIGHBOARDS = 0.3\n",
    "POSITIVE_SCALE = 3\n",
    "RANDOM_STATE = 341\n",
    "\n",
    "param_grid = [\n",
    "    {\n",
    "        'Cs': [1, 10, 50, 100],\n",
    "        'penalty': ['l2'],\n",
    "        'solver': ['sag']\n",
    "    },\n",
    "\n",
    "\n",
    "]"
   ]
  },
  {
   "attachments": {},
   "cell_type": "markdown",
   "metadata": {},
   "source": [
    "# Optimization"
   ]
  },
  {
   "cell_type": "code",
   "execution_count": 3,
   "metadata": {},
   "outputs": [],
   "source": [
    "def reduce_mem_usage(df : pd.DataFrame):\n",
    "    start_mem = df.memory_usage().sum() / 1024 ** 2\n",
    "    for col in df.columns:\n",
    "        col_type = df[col].dtypes\n",
    "        if str(col_type)[:5] == 'float':\n",
    "            c_min = df[col].min()\n",
    "            c_max = df[col].max()\n",
    "            if c_min > np.finfo('f2').min and c_max < np.finfo('f2').max:\n",
    "                df[col] = df[col].astype(np.float16)\n",
    "            elif c_min > np.finfo('f4').min and c_max < np.finfo('f4').max:\n",
    "                df[col] = df[col].astype(np.float32)\n",
    "            else:\n",
    "                df[col] = df[col].astype(np.float64)\n",
    "        elif str(col_type)[:3] == 'int':\n",
    "            c_min = df[col].min()\n",
    "            c_max = df[col].max()\n",
    "            if c_min > np.iinfo('i1').min and c_max < np.iinfo('i1').max:\n",
    "                df[col] = df[col].astype(np.int8)\n",
    "            elif c_min > np.iinfo('i2').min and c_max < np.iinfo('i2').max:\n",
    "                df[col] = df[col].astype(np.int16)\n",
    "            elif c_min > np.iinfo('i4').min and c_max < np.iinfo('i4').max:\n",
    "                df[col] = df[col].astype(np.int32)\n",
    "            elif c_min > np.iinfo('i8').min and c_max < np.iinfo('i8').max:\n",
    "                df[col] = df[col].astype(np.int64)\n",
    "        elif str(col_type)[:8] == 'datetime':\n",
    "            df[col] = df[col].astype('category')\n",
    "    end_mem = df.memory_usage().sum() / 1024 ** 2\n",
    "    print('Потребление памяти меньше на',\n",
    "         round(start_mem - end_mem, 2),\n",
    "         'Мб (минус',\n",
    "         round(100 * (start_mem - end_mem) / start_mem, 1),\n",
    "         '%)')\n",
    "    return df"
   ]
  },
  {
   "attachments": {},
   "cell_type": "markdown",
   "metadata": {},
   "source": [
    "# Data extract"
   ]
  },
  {
   "cell_type": "code",
   "execution_count": 4,
   "metadata": {},
   "outputs": [],
   "source": [
    "methods = {\n",
    "    \"SHG Intensity\" : [\n",
    "        \"SHG Intensity Mean\",\n",
    "        \"SHG Intensity MAD\",\n",
    "        \"SHG Intensity Contrast\",\n",
    "        \"SHG Intensity Correlation\",\n",
    "        \"SHG Intensity Entropy\",\n",
    "        \"SHG Intensity ASM\",\n",
    "        \"SHG Intensity IDM\"\n",
    "    ],\n",
    "    \"R-Ratio\" : [\n",
    "        \"R-Ratio Mean\",\n",
    "        \"R-Ratio MAD\",\n",
    "        \"R-Ratio Contrast\",\n",
    "        \"R-Ratio Correlation\",\n",
    "        \"R-Ratio Entropy\",\n",
    "        \"R-Ratio ASM\"\n",
    "    ],\n",
    "    \"Degree of Circular Polarization\" : [\n",
    "        \"Degree of Circular Polarization Mean\",\n",
    "        \"Degree of Circular Polarization MAD\",\n",
    "        \"Degree of Circular Polarization Contrast\",\n",
    "        \"Degree of Circular Polarization Correlation\",\n",
    "        \"Degree of Circular Polarization Entropy\",\n",
    "        \"Degree of Circular Polarization ASM\",\n",
    "        \"Degree of Circular Polarization IDM\"\n",
    "    ],\n",
    "    \"SHG-CD\" : [ \n",
    "        \"SHG-CD MAD\",\n",
    "        \"SHG-CD Contrast\",\n",
    "        \"SHG-CD Correlation\",\n",
    "        \"SHG-CD Entropy\",\n",
    "        \"SHG-CD ASM\",\n",
    "        \"SHG-CD IDM\"\n",
    "    ],\n",
    "    \"SHG-LD\" : [\n",
    "        \"SHG-LD MAD\",\n",
    "        \"SHG-LD Contrast\",\n",
    "        \"SHG-LD Correlation\",\n",
    "        \"SHG-LD Entropy\",\n",
    "        \"SHG-LD ASM\",\n",
    "        \"SHG-LD IDM\"\n",
    "    ],\n",
    "    \"Params\" : [\n",
    "        \"2-Group Tag\",\n",
    "        \"Pixel Density\",\n",
    "    ]\n",
    "}\n",
    "\n",
    "x_axis = sum([methods[key] for key in methods.keys() if key != \"Params\"], [])\n",
    "x_axis += [methods['Params'][1]]\n",
    "y_axis = methods[\"Params\"][0]\n",
    "def getData(table_number) -> pd.DataFrame:\n",
    "    data = pd.read_excel(io=\"../../Data/41598_2022_13623_MOESM3_ESM.xlsx\", \n",
    "    sheet_name=f\"{1 << 2 * (table_number - 1)} Subimage Training\")\n",
    "    data = reduce_mem_usage(data)\n",
    "\n",
    "    data[\"2-Group Tag\"] = data[y_axis] == 2\n",
    "    return data\n"
   ]
  },
  {
   "attachments": {},
   "cell_type": "markdown",
   "metadata": {},
   "source": [
    "# Get predict"
   ]
  },
  {
   "cell_type": "code",
   "execution_count": 5,
   "metadata": {},
   "outputs": [],
   "source": [
    "estimator = ...\n",
    "def getModel(X, y):\n",
    "    global estimator\n",
    "    cv = ShuffleSplit(n_splits=N_SPLITS, test_size=TEST_SIZE, random_state=RANDOM_STATE)\n",
    "    estimator = LogisticRegressionCV(\n",
    "        max_iter=40000, \n",
    "        class_weight='balanced',\n",
    "        random_state=RANDOM_STATE,\n",
    "        cv=cv,\n",
    "        verbose=10,\n",
    "        n_jobs=-1\n",
    "    )\n",
    "\n",
    "    # return GridSearchCV(estimator, param_grid, scoring='f1_weighted', verbose=10, n_jobs=-1).fit(X, y)\n",
    "    return estimator.fit(X, y)\n",
    "\n",
    "\n",
    "    "
   ]
  },
  {
   "cell_type": "code",
   "execution_count": 6,
   "metadata": {},
   "outputs": [],
   "source": [
    "def getPredict(model, X):\n",
    "    y = model.predict(X)\n",
    "    return y"
   ]
  },
  {
   "attachments": {},
   "cell_type": "markdown",
   "metadata": {
    "tags": [
     "parameters"
    ]
   },
   "source": [
    "# Model quality assessment"
   ]
  },
  {
   "cell_type": "code",
   "execution_count": 7,
   "metadata": {},
   "outputs": [],
   "source": [
    "def modelQualityAssessment(model, X_test, y_test):\n",
    "    y_predict = getPredict(model, X_test)\n",
    "\n",
    "    print(f'Accuracy score: %0.2f' % accuracy_score(y_test, y_predict, normalize=True))\n",
    "    print(f'F1 score: %0.2f' % f1_score(y_test, y_predict, average='weighted'))\n",
    "    print(f'Precision score: %0.2f' % precision_score(y_test, y_predict, average='weighted'))\n",
    "    print(f'Recall score: %0.2f' % recall_score(y_test, y_predict, average='weighted'))\n",
    "    print(f'ROC AUC score: %0.2f' % roc_auc_score(y_test, y_predict, average='weighted'))\n",
    "\n",
    "\n",
    "    svc_disp = PrecisionRecallDisplay.from_estimator(model, X_test, y_test) #?\n",
    "    rfc_disp = RocCurveDisplay.from_estimator(model, X_test, y_test) #?\n",
    "    plt.show()\n",
    "\n",
    "    cm = confusion_matrix(y_test, y_predict)\n",
    "    ConfusionMatrixDisplay(confusion_matrix=cm).plot()\n",
    "    plt.show()"
   ]
  },
  {
   "attachments": {},
   "cell_type": "markdown",
   "metadata": {},
   "source": [
    "# Calculate model"
   ]
  },
  {
   "cell_type": "code",
   "execution_count": 8,
   "metadata": {},
   "outputs": [],
   "source": [
    "def MyTomeLinks(X, y):\n",
    "    nbrsPositive = NearestNeighbors(n_neighbors=1).fit(X[y == True])\n",
    "    nbrsNegative = NearestNeighbors(n_neighbors=1).fit(X[y == False])\n",
    "\n",
    "    distances_positive, indices_positive = nbrsPositive.kneighbors(X[y == False])\n",
    "\n",
    "    distances_positive = distances_positive.ravel()\n",
    "    indices_positive = indices_positive.ravel()\n",
    "    print(max(distances_positive))\n",
    "    indices_nearest_positive = np.unique(indices_positive[distances_positive < PART_NEIGHBOARDS * max(distances_positive)])\n",
    "\n",
    "    distances_false, indices_false = nbrsPositive.kneighbors(X[y == True].iloc[indices_nearest_positive])\n",
    "\n",
    "    indices_nearest_negative = np.unique(indices_false)\n",
    "    indices_further_positive = np.unique(indices_positive[distances_positive > PART_NEIGHBOARDS * max(distances_positive)])\n",
    "\n",
    "\n",
    "    X_further_positive = X[y == True].iloc[indices_further_positive]\n",
    "    X_nearest_positive = X[y == True].iloc[indices_nearest_positive]\n",
    "    X_nearest_negative = X[y == False].iloc[indices_nearest_negative]\n",
    "\n",
    "\n",
    "    y_further_positive = y[y == True].iloc[indices_further_positive]\n",
    "    y_nearest_positive = y[y == True].iloc[indices_nearest_positive]\n",
    "    y_nearest_negative = y[y == False].iloc[indices_nearest_negative]\n",
    "\n",
    "    indices_further_negative = np.array(random.sample(tuple(X[y == False].index), min(POSITIVE_SCALE * len(X_further_positive), len(X[y == False].index))))\n",
    "\n",
    "    X_further_negative = X[y == False].loc[indices_further_negative]\n",
    "    y_further_negative = y[y == False].loc[indices_further_negative]\n",
    "\n",
    "    X = pd.concat([X_further_positive, X_nearest_positive, X_nearest_negative, X_further_negative], ignore_index=False)\n",
    "    y = pd.concat([y_further_positive, y_nearest_positive, y_nearest_negative, y_further_negative], ignore_index=False)\n",
    "\n",
    "    return X, y"
   ]
  },
  {
   "cell_type": "code",
   "execution_count": 9,
   "metadata": {},
   "outputs": [
    {
     "name": "stdout",
     "output_type": "stream",
     "text": [
      "Потребление памяти меньше на 0.07 Мб (минус 74.5 %)\n"
     ]
    }
   ],
   "source": [
    "data = getData(3)\n",
    "len(data)\n",
    "# for i in range(2, 10):\n",
    "#     data = pd.concat([data, getData(i)], ignore_index=True)\n",
    "\n",
    "\n",
    "X = data[x_axis]\n",
    "y = data[y_axis]"
   ]
  },
  {
   "cell_type": "code",
   "execution_count": 10,
   "metadata": {},
   "outputs": [
    {
     "name": "stdout",
     "output_type": "stream",
     "text": [
      "281\n"
     ]
    },
    {
     "name": "stderr",
     "output_type": "stream",
     "text": [
      "[Parallel(n_jobs=-1)]: Using backend LokyBackend with 12 concurrent workers.\n",
      "[Parallel(n_jobs=-1)]: Done   2 out of   5 | elapsed:    3.9s remaining:    5.9s\n",
      "[Parallel(n_jobs=-1)]: Done   3 out of   5 | elapsed:    4.0s remaining:    2.6s\n",
      "[Parallel(n_jobs=-1)]: Done   5 out of   5 | elapsed:    4.2s remaining:    0.0s\n",
      "[Parallel(n_jobs=-1)]: Done   5 out of   5 | elapsed:    4.2s finished\n"
     ]
    }
   ],
   "source": [
    "X_train, X_test, y_train, y_test = train_test_split(X, y, test_size=TEST_SIZE)\n",
    "\n",
    "# X_train, y_train = MyTomeLinks(X_train, y_train)\n",
    "# X_train, y_train = TomekLinks().fit_resample(X_train, y_train)\n",
    "print(len(X_train))\n",
    "model = getModel(X_train, y_train)"
   ]
  },
  {
   "cell_type": "code",
   "execution_count": 11,
   "metadata": {},
   "outputs": [
    {
     "name": "stdout",
     "output_type": "stream",
     "text": [
      "Accuracy score: 0.97\n",
      "F1 score: 0.97\n",
      "Precision score: 0.97\n",
      "Recall score: 0.97\n",
      "ROC AUC score: 0.97\n"
     ]
    },
    {
     "data": {
      "image/png": "[encoded data removed]",
      "text/plain": [
       "<Figure size 640x480 with 1 Axes>"
      ]
     },
     "metadata": {},
     "output_type": "display_data"
    },
    {
     "data": {
      "image/png": "[encoded data removed]",
      "text/plain": [
       "<Figure size 640x480 with 1 Axes>"
      ]
     },
     "metadata": {},
     "output_type": "display_data"
    },
    {
     "data": {
      "image/png": "[encoded data removed]",
      "text/plain": [
       "<Figure size 640x480 with 2 Axes>"
      ]
     },
     "metadata": {},
     "output_type": "display_data"
    }
   ],
   "source": [
    "modelQualityAssessment(model, X_test, y_test)"
   ]
  },
  {
   "cell_type": "code",
   "execution_count": 12,
   "metadata": {},
   "outputs": [],
   "source": [
    "#model = load_model(version=1, attempt=0)"
   ]
  },
  {
   "cell_type": "code",
   "execution_count": 13,
   "metadata": {},
   "outputs": [],
   "source": [
    "data_for_predict4096 = pd.read_excel(\"../../Data/mydata4096.xlsx\")\n",
    "data_for_predict65536 = pd.read_excel(\"../../Data/mydata65536.xlsx\")"
   ]
  },
  {
   "cell_type": "code",
   "execution_count": 14,
   "metadata": {},
   "outputs": [
    {
     "name": "stdout",
     "output_type": "stream",
     "text": [
      "Потребление памяти меньше на 0.8 Мб (минус 75.0 %)\n",
      "Потребление памяти меньше на 12.8 Мб (минус 69.9 %)\n"
     ]
    }
   ],
   "source": [
    "data_for_predict4096 = reduce_mem_usage(data_for_predict4096)\n",
    "X_for_predict4096 = data_for_predict4096[x_axis]\n",
    "data_for_predict65536 = reduce_mem_usage(data_for_predict65536)\n",
    "X_for_predict65536 = data_for_predict65536[x_axis]"
   ]
  },
  {
   "cell_type": "code",
   "execution_count": 15,
   "metadata": {},
   "outputs": [],
   "source": [
    "y_pred4096 = getPredict(model, X_for_predict4096)\n",
    "y_pred65536 = getPredict(model, X_for_predict65536)"
   ]
  },
  {
   "cell_type": "code",
   "execution_count": 16,
   "metadata": {},
   "outputs": [],
   "source": [
    "y_pred4096 = y_pred4096.reshape((64,64))\n",
    "y_pred4096 = y_pred4096.astype(np.int8)\n",
    "\n",
    "y_pred65536 = y_pred65536[:65536].reshape((256,256))\n",
    "y_pred65536 = y_pred65536.astype(np.int8)\n"
   ]
  },
  {
   "cell_type": "code",
   "execution_count": 17,
   "metadata": {},
   "outputs": [
    {
     "data": {
      "text/plain": [
       "<matplotlib.image.AxesImage at 0x219c431d820>"
      ]
     },
     "execution_count": 17,
     "metadata": {},
     "output_type": "execute_result"
    },
    {
     "data": {
      "image/png": "[encoded data removed]",
      "text/plain": [
       "<Figure size 640x480 with 1 Axes>"
      ]
     },
     "metadata": {},
     "output_type": "display_data"
    }
   ],
   "source": [
    "imshow(y_pred4096, cmap='gray', vmin=0, vmax=1)\n",
    "# imshow(y_pred65536, cmap='gray', vmin=0, vmax=1)\n"
   ]
  },
  {
   "cell_type": "code",
   "execution_count": 18,
   "metadata": {},
   "outputs": [],
   "source": [
    "save_model(model, version=1)"
   ]
  },
  {
   "cell_type": "code",
   "execution_count": null,
   "metadata": {},
   "outputs": [],
   "source": []
  }
 ],
 "metadata": {
  "kernelspec": {
   "display_name": "Python 3 (ipykernel)",
   "language": "python",
   "name": "python3"
  },
  "language_info": {
   "codemirror_mode": {
    "name": "ipython",
    "version": 3
   },
   "file_extension": ".py",
   "mimetype": "text/x-python",
   "name": "python",
   "nbconvert_exporter": "python",
   "pygments_lexer": "ipython3",
   "version": "3.9.5"
  },
  "vscode": {
   "interpreter": {
    "hash": "084108f72d432de2264adc3ffba650c9f1951cbab3e2483f7cb2cefcfb817813"
   }
  }
 },
 "nbformat": 4,
 "nbformat_minor": 2
}
