{
 "cells": [
  {
   "cell_type": "code",
   "execution_count": 84,
   "metadata": {},
   "outputs": [],
   "source": [
    "import pandas as pd\n",
    "import numpy as np\n",
    "import matplotlib.pyplot as plt\n",
    "from sklearn.model_selection import ShuffleSplit, StratifiedKFold, GridSearchCV, train_test_split, cross_val_score\n",
    "from sklearn.linear_model import LogisticRegression, LogisticRegressionCV\n",
    "from sklearn.svm import LinearSVC, SVC\n",
    "from sklearn.metrics import (\n",
    "    RocCurveDisplay, \n",
    "    ConfusionMatrixDisplay, \n",
    "    PrecisionRecallDisplay\n",
    ")\n",
    "from sklearn.metrics import (\n",
    "    accuracy_score, \n",
    "    f1_score, \n",
    "    precision_score, \n",
    "    recall_score, \n",
    "    roc_auc_score, \n",
    "    confusion_matrix, \n",
    "    precision_recall_curve, \n",
    "    roc_curve\n",
    ")\n",
    "from imblearn.under_sampling import TomekLinks\n",
    "from sklearn.neighbors import NearestNeighbors\n",
    "import random"
   ]
  },
  {
   "cell_type": "markdown",
   "metadata": {},
   "source": [
    "# HYPER-PARAMETERS"
   ]
  },
  {
   "cell_type": "code",
   "execution_count": 85,
   "metadata": {},
   "outputs": [],
   "source": [
    "TEST_SIZE = 0.2\n",
    "N_SPLITS = 5\n",
    "REGRESSION_C = 10\n",
    "DEGREE = 2\n",
    "# L1_RATIO = 0.5\n",
    "PART_NEIGHBOARDS = 0.1\n",
    "RANDOM_STATE = 341\n",
    "\n",
    "param_grid = [\n",
    "    {\n",
    "        'C': [0.1, 1, 10, 100],\n",
    "        'l1_ratio': [0, 0.2, 0.4, 0.6, 0.8, 1],\n",
    "        #'solver': ['sag', 'saga']\n",
    "    },\n",
    "\n",
    "\n",
    "]"
   ]
  },
  {
   "cell_type": "markdown",
   "metadata": {},
   "source": [
    "# Optimization"
   ]
  },
  {
   "cell_type": "code",
   "execution_count": 86,
   "metadata": {},
   "outputs": [],
   "source": [
    "def reduce_mem_usage(df : pd.DataFrame):\n",
    "    start_mem = df.memory_usage().sum() / 1024 ** 2\n",
    "    for col in df.columns:\n",
    "        col_type = df[col].dtypes\n",
    "        if str(col_type)[:5] == 'float':\n",
    "            c_min = df[col].min()\n",
    "            c_max = df[col].max()\n",
    "            if c_min > np.finfo('f2').min and c_max < np.finfo('f2').max:\n",
    "                df[col] = df[col].astype(np.float16)\n",
    "            elif c_min > np.finfo('f4').min and c_max < np.finfo('f4').max:\n",
    "                df[col] = df[col].astype(np.float32)\n",
    "            else:\n",
    "                df[col] = df[col].astype(np.float64)\n",
    "        elif str(col_type)[:3] == 'int':\n",
    "            c_min = df[col].min()\n",
    "            c_max = df[col].max()\n",
    "            if c_min > np.iinfo('i1').min and c_max < np.iinfo('i1').max:\n",
    "                df[col] = df[col].astype(np.int8)\n",
    "            elif c_min > np.iinfo('i2').min and c_max < np.iinfo('i2').max:\n",
    "                df[col] = df[col].astype(np.int16)\n",
    "            elif c_min > np.iinfo('i4').min and c_max < np.iinfo('i4').max:\n",
    "                df[col] = df[col].astype(np.int32)\n",
    "            elif c_min > np.iinfo('i8').min and c_max < np.iinfo('i8').max:\n",
    "                df[col] = df[col].astype(np.int64)\n",
    "        elif str(col_type)[:8] == 'datetime':\n",
    "            df[col] = df[col].astype('category')\n",
    "    end_mem = df.memory_usage().sum() / 1024 ** 2\n",
    "    print('Потребление памяти меньше на',\n",
    "         round(start_mem - end_mem, 2),\n",
    "         'Мб (минус',\n",
    "         round(100 * (start_mem - end_mem) / start_mem, 1),\n",
    "         '%)')\n",
    "    return df"
   ]
  },
  {
   "attachments": {},
   "cell_type": "markdown",
   "metadata": {},
   "source": [
    "# Data extract"
   ]
  },
  {
   "cell_type": "code",
   "execution_count": 87,
   "metadata": {},
   "outputs": [],
   "source": [
    "methods = {\n",
    "    \"SHG Intensity\" : [\n",
    "        \"SHG Intensity Mean\",\n",
    "        \"SHG Intensity MAD\",\n",
    "        \"SHG Intensity Contrast\",\n",
    "        \"SHG Intensity Correlation\",\n",
    "        \"SHG Intensity Entropy\",\n",
    "        \"SHG Intensity ASM\",\n",
    "        \"SHG Intensity IDM\"\n",
    "    ],\n",
    "    \"R-Ratio\" : [\n",
    "        \"R-Ratio Mean\",\n",
    "        \"R-Ratio MAD\",\n",
    "        \"R-Ratio Contrast\",\n",
    "        \"R-Ratio Correlation\",\n",
    "        \"R-Ratio Entropy\",\n",
    "        \"R-Ratio ASM\"\n",
    "    ],\n",
    "    \"Degree of Circular Polarization\" : [\n",
    "        \"Degree of Circular Polarization Mean\",\n",
    "        \"Degree of Circular Polarization MAD\",\n",
    "        \"Degree of Circular Polarization Contrast\",\n",
    "        \"Degree of Circular Polarization Correlation\",\n",
    "        \"Degree of Circular Polarization Entropy\",\n",
    "        \"Degree of Circular Polarization ASM\",\n",
    "        \"Degree of Circular Polarization IDM\"\n",
    "    ],\n",
    "    \"SHG-CD\" : [ \n",
    "        \"SHG-CD MAD\",\n",
    "        \"SHG-CD Contrast\",\n",
    "        \"SHG-CD Correlation\",\n",
    "        \"SHG-CD Entropy\",\n",
    "        \"SHG-CD ASM\",\n",
    "        \"SHG-CD IDM\"\n",
    "    ],\n",
    "    \"SHG-LD\" : [\n",
    "        \"SHG-LD MAD\",\n",
    "        \"SHG-LD Contrast\",\n",
    "        \"SHG-LD Correlation\",\n",
    "        \"SHG-LD Entropy\",\n",
    "        \"SHG-LD ASM\",\n",
    "        \"SHG-LD IDM\"\n",
    "    ],\n",
    "    \"Params\" : [\n",
    "        \"2-Group Tag\",\n",
    "        \"Pixel Density\",\n",
    "    ]\n",
    "}\n",
    "\n",
    "x_axis = []\n",
    "for key in methods.keys():\n",
    "    if key != \"Params\":\n",
    "        x_axis += methods[key]\n",
    "y_axis = methods[\"Params\"][0]\n",
    "def getData(table_number):\n",
    "    data = pd.read_excel(io=\"../Data/41598_2022_13623_MOESM3_ESM.xlsx\", \n",
    "    sheet_name=f\"{1 << 2 * (table_number - 1)} Subimage Training\")\n",
    "    data = reduce_mem_usage(data)\n",
    "\n",
    "    data[\"2-Group Tag\"] = data[y_axis] == 2\n",
    "    return data\n"
   ]
  },
  {
   "attachments": {},
   "cell_type": "markdown",
   "metadata": {},
   "source": [
    "# Get predict"
   ]
  },
  {
   "cell_type": "code",
   "execution_count": 88,
   "metadata": {},
   "outputs": [],
   "source": [
    "estimator = ...\n",
    "def getModel(X, y):\n",
    "    global estimator\n",
    "    # estimator = SVC(\n",
    "    #     C=REGRESSION_C,\n",
    "    #     kernel='linear',\n",
    "    #     random_state=RANDOM_STATE,\n",
    "    #     class_weight='balanced'\n",
    "    # )\n",
    "    # return estimator.fit(X, y)\n",
    "    # estimator = LogisticRegression(max_iter=40000, random_state=RANDOM_STATE)\n",
    "\n",
    "    estimator = LogisticRegression(\n",
    "        max_iter=40000, \n",
    "        penalty='elasticnet',\n",
    "        solver='saga', \n",
    "        # l1_ratio=L1_RATIO,\n",
    "        C=REGRESSION_C,\n",
    "        class_weight='balanced'\n",
    "    )\n",
    "\n",
    "    return GridSearchCV(estimator, param_grid, scoring='roc_auc').fit(X, y)\n",
    "    # return estimator.fit(X, y)\n",
    "\n",
    "\n",
    "    "
   ]
  },
  {
   "cell_type": "code",
   "execution_count": 89,
   "metadata": {},
   "outputs": [],
   "source": [
    "def getPredict(model, X):\n",
    "    y = model.predict(X)\n",
    "    return y"
   ]
  },
  {
   "attachments": {},
   "cell_type": "markdown",
   "metadata": {
    "tags": [
     "parameters"
    ]
   },
   "source": [
    "# Model quality assessment"
   ]
  },
  {
   "cell_type": "code",
   "execution_count": 90,
   "metadata": {},
   "outputs": [],
   "source": [
    "def modelQualityAssessment(model, X_test, y_test):\n",
    "    y_predict = getPredict(model, X_test)\n",
    "\n",
    "    print(f'Accuracy score: %0.2f' % accuracy_score(y_test, y_predict, normalize=True))\n",
    "    print(f'F1 score: %0.2f' % f1_score(y_test, y_predict, average='weighted'))\n",
    "    print(f'Precision score: %0.2f' % precision_score(y_test, y_predict, average='weighted'))\n",
    "    print(f'Recall score: %0.2f' % recall_score(y_test, y_predict, average='weighted'))\n",
    "    print(f'ROC AUC score: %0.2f' % roc_auc_score(y_test, y_predict, average='weighted'))\n",
    "\n",
    "\n",
    "    ax = plt.gca()\n",
    "    svc_disp = PrecisionRecallDisplay.from_estimator(model, X_test, y_test, ax=ax) #?\n",
    "    rfc_disp = RocCurveDisplay.from_estimator(model, X_test, y_test, ax=ax) #?\n",
    "    plt.show()\n",
    "\n",
    "    cm = confusion_matrix(y_test, y_predict)\n",
    "    ConfusionMatrixDisplay(confusion_matrix=cm).plot()\n",
    "    plt.show()"
   ]
  },
  {
   "attachments": {},
   "cell_type": "markdown",
   "metadata": {},
   "source": [
    "# Calculate model"
   ]
  },
  {
   "cell_type": "code",
   "execution_count": 91,
   "metadata": {},
   "outputs": [],
   "source": [
    "def MyTomeLinks(X, y):\n",
    "    nbrsPositive = NearestNeighbors(n_neighbors=1).fit(X[y == True])\n",
    "    nbrsNegative = NearestNeighbors(n_neighbors=1).fit(X[y == False])\n",
    "\n",
    "    distances_positive, indices_positive = nbrsPositive.kneighbors(X[y == False])\n",
    "\n",
    "    distances_positive = distances_positive.ravel()\n",
    "    indices_positive = indices_positive.ravel()\n",
    "    print(max(distances_positive))\n",
    "    indices_nearest_positive = np.unique(indices_positive[distances_positive < PART_NEIGHBOARDS * max(distances_positive)])\n",
    "\n",
    "    distances_false, indices_false = nbrsPositive.kneighbors(X[y == True].iloc[indices_nearest_positive])\n",
    "\n",
    "    indices_nearest_negative = np.unique(indices_false)\n",
    "    indices_further_positive = np.unique(indices_positive[distances_positive > PART_NEIGHBOARDS * max(distances_positive)])\n",
    "\n",
    "\n",
    "    X_further_positive = X[y == True].iloc[indices_further_positive]\n",
    "    X_nearest_positive = X[y == True].iloc[indices_nearest_positive]\n",
    "    X_nearest_negative = X[y == False].iloc[indices_nearest_negative]\n",
    "\n",
    "\n",
    "    y_further_positive = y[y == True].iloc[indices_further_positive]\n",
    "    y_nearest_positive = y[y == True].iloc[indices_nearest_positive]\n",
    "    y_nearest_negative = y[y == False].iloc[indices_nearest_negative]\n",
    "\n",
    "    indices_further_negative = np.array(random.sample(tuple(X[y == False].index), 2 * len(X_further_positive)))\n",
    "\n",
    "    X_further_negative = X[y == False].loc[indices_further_negative]\n",
    "    y_further_negative = y[y == False].loc[indices_further_negative]\n",
    "\n",
    "    X = pd.concat([X_further_positive, X_nearest_positive, X_nearest_negative, X_further_negative], ignore_index=False)\n",
    "    y = pd.concat([y_further_positive, y_nearest_positive, y_nearest_negative, y_further_negative], ignore_index=False)\n",
    "\n",
    "    return X, y"
   ]
  },
  {
   "cell_type": "code",
   "execution_count": 92,
   "metadata": {},
   "outputs": [
    {
     "name": "stdout",
     "output_type": "stream",
     "text": [
      "Потребление памяти меньше на 0.69 Мб (минус 75.4 %)\n"
     ]
    }
   ],
   "source": [
    "data = getData(5)\n",
    "X = data[x_axis]\n",
    "y = data[y_axis]\n",
    "\n",
    "\n",
    "X_train, X_test, y_train, y_test = train_test_split(X, y, test_size=TEST_SIZE)"
   ]
  },
  {
   "cell_type": "code",
   "execution_count": 93,
   "metadata": {},
   "outputs": [
    {
     "name": "stdout",
     "output_type": "stream",
     "text": [
      "2829\n"
     ]
    }
   ],
   "source": [
    "# X_train, y_train = MyTomeLinks(X_train, y_train)\n",
    "# X_train, y_train = TomekLinks().fit_resample(X_train, y_train)\n",
    "print(len(X_train))\n",
    "model = getModel(X_train, y_train)"
   ]
  },
  {
   "cell_type": "code",
   "execution_count": 94,
   "metadata": {},
   "outputs": [
    {
     "name": "stdout",
     "output_type": "stream",
     "text": [
      "Accuracy score: 0.86\n",
      "F1 score: 0.86\n",
      "Precision score: 0.86\n",
      "Recall score: 0.86\n",
      "ROC AUC score: 0.86\n"
     ]
    },
    {
     "data": {
      "image/png": "[encoded data removed]",
      "text/plain": [
       "<Figure size 432x288 with 1 Axes>"
      ]
     },
     "metadata": {
      "needs_background": "light"
     },
     "output_type": "display_data"
    },
    {
     "data": {
      "image/png": "[encoded data removed]",
      "text/plain": [
       "<Figure size 432x288 with 2 Axes>"
      ]
     },
     "metadata": {
      "needs_background": "light"
     },
     "output_type": "display_data"
    }
   ],
   "source": [
    "modelQualityAssessment(model, X_test, y_test)"
   ]
  },
  {
   "cell_type": "code",
   "execution_count": 95,
   "metadata": {},
   "outputs": [],
   "source": [
    "# cv = ShuffleSplit(n_splits=N_SPLITS, test_size=0.5, random_state=0)\n",
    "# print(\"%0.3f\" % cross_val_score(model, X_test, y_test, cv=cv, scoring='f1_weighted').mean())\n",
    "# print(\"%0.3f\" % cross_val_score(model, X_test, y_test, cv=cv, scoring='roc_auc').mean())"
   ]
  },
  {
   "cell_type": "code",
   "execution_count": 96,
   "metadata": {},
   "outputs": [],
   "source": [
    "from skl2onnx import to_onnx\n",
    "from mlprodict.onnxrt import OnnxInference\n",
    "from pyquickhelper.helpgen.graphviz_helper import plot_graphviz"
   ]
  },
  {
   "cell_type": "code",
   "execution_count": 97,
   "metadata": {},
   "outputs": [
    {
     "ename": "RuntimeError",
     "evalue": "No known ways to retrieve the number of classes for class <class 'sklearn.linear_model._logistic.LogisticRegression'>.",
     "output_type": "error",
     "traceback": [
      "\u001b[1;31m---------------------------------------------------------------------------\u001b[0m",
      "\u001b[1;31mRuntimeError\u001b[0m                              Traceback (most recent call last)",
      "\u001b[1;32ml:\\Projects\\CourseWork\\src\\DataReader.ipynb Cell 20\u001b[0m in \u001b[0;36m<cell line: 1>\u001b[1;34m()\u001b[0m\n\u001b[1;32m----> <a href='vscode-notebook-cell:/l%3A/Projects/CourseWork/src/DataReader.ipynb#X25sZmlsZQ%3D%3D?line=0'>1</a>\u001b[0m model_def \u001b[39m=\u001b[39m to_onnx(estimator, X_train\u001b[39m.\u001b[39;49mto_numpy()\u001b[39m.\u001b[39;49mastype(np\u001b[39m.\u001b[39;49mfloat64),\n\u001b[0;32m      <a href='vscode-notebook-cell:/l%3A/Projects/CourseWork/src/DataReader.ipynb#X25sZmlsZQ%3D%3D?line=1'>2</a>\u001b[0m                     options\u001b[39m=\u001b[39;49m{\u001b[39mid\u001b[39;49m(model): {\u001b[39m'\u001b[39;49m\u001b[39mzipmap\u001b[39;49m\u001b[39m'\u001b[39;49m: \u001b[39mFalse\u001b[39;49;00m}})\n\u001b[0;32m      <a href='vscode-notebook-cell:/l%3A/Projects/CourseWork/src/DataReader.ipynb#X25sZmlsZQ%3D%3D?line=3'>4</a>\u001b[0m oinf \u001b[39m=\u001b[39m OnnxInference(model_def, runtime\u001b[39m=\u001b[39m\u001b[39m'\u001b[39m\u001b[39mpython_compiled\u001b[39m\u001b[39m'\u001b[39m)\n\u001b[0;32m      <a href='vscode-notebook-cell:/l%3A/Projects/CourseWork/src/DataReader.ipynb#X25sZmlsZQ%3D%3D?line=4'>5</a>\u001b[0m ax \u001b[39m=\u001b[39m plot_graphviz(oinf\u001b[39m.\u001b[39mto_dot())\n",
      "File \u001b[1;32m~\\AppData\\Roaming\\Python\\Python39\\site-packages\\skl2onnx\\convert.py:263\u001b[0m, in \u001b[0;36mto_onnx\u001b[1;34m(model, X, name, initial_types, target_opset, options, white_op, black_op, final_types, dtype, naming, verbose)\u001b[0m\n\u001b[0;32m    261\u001b[0m \u001b[39mif\u001b[39;00m verbose \u001b[39m>\u001b[39m\u001b[39m=\u001b[39m \u001b[39m1\u001b[39m:\n\u001b[0;32m    262\u001b[0m     \u001b[39mprint\u001b[39m(\u001b[39m\"\u001b[39m\u001b[39m[to_onnx] initial_types=\u001b[39m\u001b[39m%r\u001b[39;00m\u001b[39m\"\u001b[39m \u001b[39m%\u001b[39m initial_types)\n\u001b[1;32m--> 263\u001b[0m \u001b[39mreturn\u001b[39;00m convert_sklearn(model, initial_types\u001b[39m=\u001b[39;49minitial_types,\n\u001b[0;32m    264\u001b[0m                        target_opset\u001b[39m=\u001b[39;49mtarget_opset,\n\u001b[0;32m    265\u001b[0m                        name\u001b[39m=\u001b[39;49mname, options\u001b[39m=\u001b[39;49moptions,\n\u001b[0;32m    266\u001b[0m                        white_op\u001b[39m=\u001b[39;49mwhite_op, black_op\u001b[39m=\u001b[39;49mblack_op,\n\u001b[0;32m    267\u001b[0m                        final_types\u001b[39m=\u001b[39;49mfinal_types, dtype\u001b[39m=\u001b[39;49mdtype,\n\u001b[0;32m    268\u001b[0m                        verbose\u001b[39m=\u001b[39;49mverbose, naming\u001b[39m=\u001b[39;49mnaming)\n",
      "File \u001b[1;32m~\\AppData\\Roaming\\Python\\Python39\\site-packages\\skl2onnx\\convert.py:174\u001b[0m, in \u001b[0;36mconvert_sklearn\u001b[1;34m(model, name, initial_types, doc_string, target_opset, custom_conversion_functions, custom_shape_calculators, custom_parsers, options, intermediate, white_op, black_op, final_types, dtype, naming, verbose)\u001b[0m\n\u001b[0;32m    172\u001b[0m \u001b[39mif\u001b[39;00m verbose \u001b[39m>\u001b[39m\u001b[39m=\u001b[39m \u001b[39m1\u001b[39m:\n\u001b[0;32m    173\u001b[0m     \u001b[39mprint\u001b[39m(\u001b[39m\"\u001b[39m\u001b[39m[convert_sklearn] parse_sklearn_model\u001b[39m\u001b[39m\"\u001b[39m)\n\u001b[1;32m--> 174\u001b[0m topology \u001b[39m=\u001b[39m parse_sklearn_model(\n\u001b[0;32m    175\u001b[0m     model, initial_types, target_opset, custom_conversion_functions,\n\u001b[0;32m    176\u001b[0m     custom_shape_calculators, custom_parsers, options\u001b[39m=\u001b[39;49moptions,\n\u001b[0;32m    177\u001b[0m     white_op\u001b[39m=\u001b[39;49mwhite_op, black_op\u001b[39m=\u001b[39;49mblack_op,\n\u001b[0;32m    178\u001b[0m     final_types\u001b[39m=\u001b[39;49mfinal_types, naming\u001b[39m=\u001b[39;49mnaming)\n\u001b[0;32m    180\u001b[0m \u001b[39m# Convert our Topology object into ONNX. The outcome is an ONNX model.\u001b[39;00m\n\u001b[0;32m    181\u001b[0m options \u001b[39m=\u001b[39m _process_options(model, options)\n",
      "File \u001b[1;32m~\\AppData\\Roaming\\Python\\Python39\\site-packages\\skl2onnx\\_parse.py:787\u001b[0m, in \u001b[0;36mparse_sklearn_model\u001b[1;34m(model, initial_types, target_opset, custom_conversion_functions, custom_shape_calculators, custom_parsers, options, white_op, black_op, final_types, naming)\u001b[0m\n\u001b[0;32m    784\u001b[0m     raw_model_container\u001b[39m.\u001b[39madd_input(variable)\n\u001b[0;32m    786\u001b[0m \u001b[39m# Parse the input scikit-learn model as a Topology object.\u001b[39;00m\n\u001b[1;32m--> 787\u001b[0m outputs \u001b[39m=\u001b[39m parse_sklearn(scope, model, inputs,\n\u001b[0;32m    788\u001b[0m                         custom_parsers\u001b[39m=\u001b[39;49mcustom_parsers,\n\u001b[0;32m    789\u001b[0m                         final_types\u001b[39m=\u001b[39;49mfinal_types)\n\u001b[0;32m    791\u001b[0m \u001b[39m# The object raw_model_container is a part of the topology we're\u001b[39;00m\n\u001b[0;32m    792\u001b[0m \u001b[39m# going to return. We use it to store the outputs of the\u001b[39;00m\n\u001b[0;32m    793\u001b[0m \u001b[39m# scikit-learn's computational graph.\u001b[39;00m\n\u001b[0;32m    794\u001b[0m \u001b[39mif\u001b[39;00m final_types \u001b[39mis\u001b[39;00m \u001b[39mnot\u001b[39;00m \u001b[39mNone\u001b[39;00m \u001b[39mand\u001b[39;00m \u001b[39mlen\u001b[39m(final_types) \u001b[39m!=\u001b[39m \u001b[39mlen\u001b[39m(outputs):\n",
      "File \u001b[1;32m~\\AppData\\Roaming\\Python\\Python39\\site-packages\\skl2onnx\\_parse.py:707\u001b[0m, in \u001b[0;36mparse_sklearn\u001b[1;34m(scope, model, inputs, custom_parsers, final_types)\u001b[0m\n\u001b[0;32m    704\u001b[0m             o\u001b[39m.\u001b[39mtype \u001b[39m=\u001b[39m h\u001b[39m.\u001b[39mtype\n\u001b[0;32m    705\u001b[0m     \u001b[39mreturn\u001b[39;00m outputs\n\u001b[1;32m--> 707\u001b[0m res \u001b[39m=\u001b[39m _parse_sklearn(\n\u001b[0;32m    708\u001b[0m     scope, model, inputs, custom_parsers\u001b[39m=\u001b[39;49mcustom_parsers)\n\u001b[0;32m    709\u001b[0m \u001b[39mfor\u001b[39;00m r \u001b[39min\u001b[39;00m res:\n\u001b[0;32m    710\u001b[0m     r\u001b[39m.\u001b[39minit_status(is_leaf\u001b[39m=\u001b[39m\u001b[39mTrue\u001b[39;00m)\n",
      "File \u001b[1;32m~\\AppData\\Roaming\\Python\\Python39\\site-packages\\skl2onnx\\_parse.py:644\u001b[0m, in \u001b[0;36m_parse_sklearn\u001b[1;34m(scope, model, inputs, custom_parsers, alias)\u001b[0m\n\u001b[0;32m    641\u001b[0m     outputs \u001b[39m=\u001b[39m custom_parsers[tmodel](scope, model, inputs,\n\u001b[0;32m    642\u001b[0m                                      custom_parsers\u001b[39m=\u001b[39mcustom_parsers)\n\u001b[0;32m    643\u001b[0m \u001b[39melif\u001b[39;00m tmodel \u001b[39min\u001b[39;00m sklearn_parsers_map:\n\u001b[1;32m--> 644\u001b[0m     outputs \u001b[39m=\u001b[39m sklearn_parsers_map[tmodel](scope, model, inputs,\n\u001b[0;32m    645\u001b[0m                                           custom_parsers\u001b[39m=\u001b[39;49mcustom_parsers)\n\u001b[0;32m    646\u001b[0m \u001b[39melif\u001b[39;00m \u001b[39misinstance\u001b[39m(model, pipeline\u001b[39m.\u001b[39mPipeline):\n\u001b[0;32m    647\u001b[0m     parser \u001b[39m=\u001b[39m sklearn_parsers_map[pipeline\u001b[39m.\u001b[39mPipeline]\n",
      "File \u001b[1;32m~\\AppData\\Roaming\\Python\\Python39\\site-packages\\skl2onnx\\_parse.py:520\u001b[0m, in \u001b[0;36m_parse_sklearn_classifier\u001b[1;34m(scope, model, inputs, custom_parsers)\u001b[0m\n\u001b[0;32m    515\u001b[0m \u001b[39mif\u001b[39;00m options\u001b[39m.\u001b[39mget(\u001b[39m'\u001b[39m\u001b[39moutput_class_labels\u001b[39m\u001b[39m'\u001b[39m, \u001b[39mFalse\u001b[39;00m):\n\u001b[0;32m    516\u001b[0m     \u001b[39mraise\u001b[39;00m \u001b[39mRuntimeError\u001b[39;00m(\n\u001b[0;32m    517\u001b[0m         \u001b[39m\"\u001b[39m\u001b[39mOption \u001b[39m\u001b[39m'\u001b[39m\u001b[39moutput_class_labels\u001b[39m\u001b[39m'\u001b[39m\u001b[39m is not compatible with option \u001b[39m\u001b[39m\"\u001b[39m\n\u001b[0;32m    518\u001b[0m         \u001b[39m\"\u001b[39m\u001b[39m'\u001b[39m\u001b[39mzipmap\u001b[39m\u001b[39m'\u001b[39m\u001b[39m.\u001b[39m\u001b[39m\"\u001b[39m)\n\u001b[1;32m--> 520\u001b[0m \u001b[39mreturn\u001b[39;00m _apply_zipmap(\n\u001b[0;32m    521\u001b[0m     options[\u001b[39m'\u001b[39;49m\u001b[39mzipmap\u001b[39;49m\u001b[39m'\u001b[39;49m], scope, model, inputs[\u001b[39m0\u001b[39;49m]\u001b[39m.\u001b[39;49mtype, probability_tensor)\n",
      "File \u001b[1;32m~\\AppData\\Roaming\\Python\\Python39\\site-packages\\skl2onnx\\_parse.py:437\u001b[0m, in \u001b[0;36m_apply_zipmap\u001b[1;34m(zipmap_options, scope, model, input_type, probability_tensor)\u001b[0m\n\u001b[0;32m    435\u001b[0m \u001b[39melse\u001b[39;00m:\n\u001b[0;32m    436\u001b[0m     zipmap_operator \u001b[39m=\u001b[39m scope\u001b[39m.\u001b[39mdeclare_local_operator(\u001b[39m'\u001b[39m\u001b[39mSklearnZipMap\u001b[39m\u001b[39m'\u001b[39m)\n\u001b[1;32m--> 437\u001b[0m     classes \u001b[39m=\u001b[39m get_label_classes(scope, model)\n\u001b[0;32m    439\u001b[0m zipmap_operator\u001b[39m.\u001b[39minputs \u001b[39m=\u001b[39m probability_tensor\n\u001b[0;32m    440\u001b[0m label_type \u001b[39m=\u001b[39m Int64TensorType([\u001b[39mNone\u001b[39;00m])\n",
      "File \u001b[1;32m~\\AppData\\Roaming\\Python\\Python39\\site-packages\\skl2onnx\\common\\utils_classifier.py:40\u001b[0m, in \u001b[0;36mget_label_classes\u001b[1;34m(scope, op, node_names)\u001b[0m\n\u001b[0;32m     38\u001b[0m     classes \u001b[39m=\u001b[39m \u001b[39mlen\u001b[39m(op\u001b[39m.\u001b[39mintercept_)\n\u001b[0;32m     39\u001b[0m \u001b[39melse\u001b[39;00m:\n\u001b[1;32m---> 40\u001b[0m     \u001b[39mraise\u001b[39;00m \u001b[39mRuntimeError\u001b[39;00m(\n\u001b[0;32m     41\u001b[0m         \u001b[39m\"\u001b[39m\u001b[39mNo known ways to retrieve the number of classes for class \u001b[39m\u001b[39m%r\u001b[39;00m\u001b[39m.\u001b[39m\u001b[39m\"\u001b[39m\n\u001b[0;32m     42\u001b[0m         \u001b[39m\"\u001b[39m\u001b[39m\"\u001b[39m \u001b[39m%\u001b[39m \u001b[39mtype\u001b[39m(op))\n\u001b[0;32m     43\u001b[0m \u001b[39mreturn\u001b[39;00m classes\n",
      "\u001b[1;31mRuntimeError\u001b[0m: No known ways to retrieve the number of classes for class <class 'sklearn.linear_model._logistic.LogisticRegression'>."
     ]
    }
   ],
   "source": [
    "model_def = to_onnx(estimator, X_train.to_numpy().astype(np.float64),\n",
    "                    options={id(model): {'zipmap': False}})\n",
    "\n",
    "oinf = OnnxInference(model_def, runtime='python_compiled')\n",
    "ax = plot_graphviz(oinf.to_dot())\n",
    "ax.get_xaxis().set_visible(False)\n",
    "ax.get_yaxis().set_visible(False)"
   ]
  },
  {
   "cell_type": "code",
   "execution_count": null,
   "metadata": {},
   "outputs": [],
   "source": []
  }
 ],
 "metadata": {
  "kernelspec": {
   "display_name": "Python 3 (ipykernel)",
   "language": "python",
   "name": "python3"
  },
  "language_info": {
   "codemirror_mode": {
    "name": "ipython",
    "version": 3
   },
   "file_extension": ".py",
   "mimetype": "text/x-python",
   "name": "python",
   "nbconvert_exporter": "python",
   "pygments_lexer": "ipython3",
   "version": "3.9.12"
  },
  "orig_nbformat": 4,
  "vscode": {
   "interpreter": {
    "hash": "deb4792152b8b9767403eeef0a1b0f34b83d442136ccee9184cd7d1131f09aa0"
   }
  }
 },
 "nbformat": 4,
 "nbformat_minor": 2
}
